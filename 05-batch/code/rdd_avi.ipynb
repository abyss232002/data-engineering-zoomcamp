{
 "cells": [
  {
   "cell_type": "code",
   "execution_count": 1,
   "metadata": {},
   "outputs": [
    {
     "name": "stderr",
     "output_type": "stream",
     "text": [
      "Setting default log level to \"WARN\".\n",
      "To adjust logging level use sc.setLogLevel(newLevel). For SparkR, use setLogLevel(newLevel).\n"
     ]
    },
    {
     "name": "stdout",
     "output_type": "stream",
     "text": [
      "24/04/08 22:00:52 WARN NativeCodeLoader: Unable to load native-hadoop library for your platform... using builtin-java classes where applicable\n"
     ]
    }
   ],
   "source": [
    "import pyspark\n",
    "from pyspark.sql import SparkSession\n",
    "\n",
    "spark = SparkSession.builder \\\n",
    "    .master(\"local[*]\") \\\n",
    "    .appName('testrdd2024') \\\n",
    "    .getOrCreate()"
   ]
  },
  {
   "cell_type": "markdown",
   "metadata": {},
   "source": [
    "spark.stop()"
   ]
  },
  {
   "cell_type": "code",
   "execution_count": 31,
   "metadata": {},
   "outputs": [],
   "source": [
    "df_green = spark \\\n",
    "            .read \\\n",
    "            .parquet(\"data/processed/green/*/*\")"
   ]
  },
  {
   "cell_type": "code",
   "execution_count": 32,
   "metadata": {},
   "outputs": [
    {
     "name": "stdout",
     "output_type": "stream",
     "text": [
      "+--------+--------------------+---------------------+------------------+----------+------------+------------+---------------+-------------+-----------+-----+-------+----------+------------+---------+---------------------+------------+------------+---------+--------------------+\n",
      "|VendorID|lpep_pickup_datetime|lpep_dropoff_datetime|store_and_fwd_flag|RatecodeID|PULocationID|DOLocationID|passenger_count|trip_distance|fare_amount|extra|mta_tax|tip_amount|tolls_amount|ehail_fee|improvement_surcharge|total_amount|payment_type|trip_type|congestion_surcharge|\n",
      "+--------+--------------------+---------------------+------------------+----------+------------+------------+---------------+-------------+-----------+-----+-------+----------+------------+---------+---------------------+------------+------------+---------+--------------------+\n",
      "|       2| 2020-01-23 13:10:15|  2020-01-23 13:38:16|                 N|         1|          74|         130|              1|        12.77|       36.0|  0.0|    0.5|      2.05|        6.12|     null|                  0.3|       44.97|           1|        1|                 0.0|\n",
      "|    null| 2020-01-20 15:09:00|  2020-01-20 15:46:00|              null|      null|          67|          39|           null|          8.0|       29.9| 2.75|    0.5|       0.0|         0.0|     null|                  0.3|       33.45|        null|     null|                null|\n",
      "|       2| 2020-01-15 20:23:41|  2020-01-15 20:31:18|                 N|         1|         260|         157|              1|         1.27|        7.0|  0.5|    0.5|       0.0|         0.0|     null|                  0.3|         8.3|           2|        1|                 0.0|\n",
      "|       2| 2020-01-05 16:32:26|  2020-01-05 16:40:51|                 N|         1|          82|          83|              1|         1.25|        7.5|  0.0|    0.5|       0.0|         0.0|     null|                  0.3|         8.3|           2|        1|                 0.0|\n",
      "|       2| 2020-01-29 19:22:42|  2020-01-29 19:31:02|                 N|         1|         166|          42|              1|         1.84|        8.0|  1.0|    0.5|      2.94|         0.0|     null|                  0.3|       12.74|           1|        1|                 0.0|\n",
      "+--------+--------------------+---------------------+------------------+----------+------------+------------+---------------+-------------+-----------+-----+-------+----------+------------+---------+---------------------+------------+------------+---------+--------------------+\n",
      "only showing top 5 rows\n",
      "\n"
     ]
    }
   ],
   "source": [
    "df_green.show(5)"
   ]
  },
  {
   "cell_type": "code",
   "execution_count": 33,
   "metadata": {},
   "outputs": [
    {
     "name": "stdout",
     "output_type": "stream",
     "text": [
      "root\n",
      " |-- VendorID: integer (nullable = true)\n",
      " |-- lpep_pickup_datetime: timestamp (nullable = true)\n",
      " |-- lpep_dropoff_datetime: timestamp (nullable = true)\n",
      " |-- store_and_fwd_flag: string (nullable = true)\n",
      " |-- RatecodeID: integer (nullable = true)\n",
      " |-- PULocationID: integer (nullable = true)\n",
      " |-- DOLocationID: integer (nullable = true)\n",
      " |-- passenger_count: integer (nullable = true)\n",
      " |-- trip_distance: double (nullable = true)\n",
      " |-- fare_amount: double (nullable = true)\n",
      " |-- extra: double (nullable = true)\n",
      " |-- mta_tax: double (nullable = true)\n",
      " |-- tip_amount: double (nullable = true)\n",
      " |-- tolls_amount: double (nullable = true)\n",
      " |-- ehail_fee: double (nullable = true)\n",
      " |-- improvement_surcharge: double (nullable = true)\n",
      " |-- total_amount: double (nullable = true)\n",
      " |-- payment_type: integer (nullable = true)\n",
      " |-- trip_type: integer (nullable = true)\n",
      " |-- congestion_surcharge: double (nullable = true)\n",
      "\n"
     ]
    }
   ],
   "source": [
    "df_green.printSchema()"
   ]
  },
  {
   "cell_type": "code",
   "execution_count": 34,
   "metadata": {},
   "outputs": [
    {
     "data": {
      "text/plain": [
       "[Row(VendorID=2, lpep_pickup_datetime=datetime.datetime(2020, 1, 23, 13, 10, 15), lpep_dropoff_datetime=datetime.datetime(2020, 1, 23, 13, 38, 16), store_and_fwd_flag='N', RatecodeID=1, PULocationID=74, DOLocationID=130, passenger_count=1, trip_distance=12.77, fare_amount=36.0, extra=0.0, mta_tax=0.5, tip_amount=2.05, tolls_amount=6.12, ehail_fee=None, improvement_surcharge=0.3, total_amount=44.97, payment_type=1, trip_type=1, congestion_surcharge=0.0),\n",
       " Row(VendorID=None, lpep_pickup_datetime=datetime.datetime(2020, 1, 20, 15, 9), lpep_dropoff_datetime=datetime.datetime(2020, 1, 20, 15, 46), store_and_fwd_flag=None, RatecodeID=None, PULocationID=67, DOLocationID=39, passenger_count=None, trip_distance=8.0, fare_amount=29.9, extra=2.75, mta_tax=0.5, tip_amount=0.0, tolls_amount=0.0, ehail_fee=None, improvement_surcharge=0.3, total_amount=33.45, payment_type=None, trip_type=None, congestion_surcharge=None),\n",
       " Row(VendorID=2, lpep_pickup_datetime=datetime.datetime(2020, 1, 15, 20, 23, 41), lpep_dropoff_datetime=datetime.datetime(2020, 1, 15, 20, 31, 18), store_and_fwd_flag='N', RatecodeID=1, PULocationID=260, DOLocationID=157, passenger_count=1, trip_distance=1.27, fare_amount=7.0, extra=0.5, mta_tax=0.5, tip_amount=0.0, tolls_amount=0.0, ehail_fee=None, improvement_surcharge=0.3, total_amount=8.3, payment_type=2, trip_type=1, congestion_surcharge=0.0),\n",
       " Row(VendorID=2, lpep_pickup_datetime=datetime.datetime(2020, 1, 5, 16, 32, 26), lpep_dropoff_datetime=datetime.datetime(2020, 1, 5, 16, 40, 51), store_and_fwd_flag='N', RatecodeID=1, PULocationID=82, DOLocationID=83, passenger_count=1, trip_distance=1.25, fare_amount=7.5, extra=0.0, mta_tax=0.5, tip_amount=0.0, tolls_amount=0.0, ehail_fee=None, improvement_surcharge=0.3, total_amount=8.3, payment_type=2, trip_type=1, congestion_surcharge=0.0),\n",
       " Row(VendorID=2, lpep_pickup_datetime=datetime.datetime(2020, 1, 29, 19, 22, 42), lpep_dropoff_datetime=datetime.datetime(2020, 1, 29, 19, 31, 2), store_and_fwd_flag='N', RatecodeID=1, PULocationID=166, DOLocationID=42, passenger_count=1, trip_distance=1.84, fare_amount=8.0, extra=1.0, mta_tax=0.5, tip_amount=2.94, tolls_amount=0.0, ehail_fee=None, improvement_surcharge=0.3, total_amount=12.74, payment_type=1, trip_type=1, congestion_surcharge=0.0)]"
      ]
     },
     "execution_count": 34,
     "metadata": {},
     "output_type": "execute_result"
    }
   ],
   "source": [
    "df_green.rdd.take(5)"
   ]
  },
  {
   "cell_type": "code",
   "execution_count": 35,
   "metadata": {},
   "outputs": [],
   "source": [
    "df_green_rdd_inter = df_green \\\n",
    "    .select('lpep_pickup_datetime', 'PULocationID', 'total_amount') \\\n",
    "    .rdd"
   ]
  },
  {
   "cell_type": "code",
   "execution_count": 39,
   "metadata": {},
   "outputs": [
    {
     "data": {
      "text/plain": [
       "[Row(lpep_pickup_datetime=datetime.datetime(2020, 1, 23, 13, 10, 15), PULocationID=74, total_amount=44.97),\n",
       " Row(lpep_pickup_datetime=datetime.datetime(2020, 1, 20, 15, 9), PULocationID=67, total_amount=33.45),\n",
       " Row(lpep_pickup_datetime=datetime.datetime(2020, 1, 15, 20, 23, 41), PULocationID=260, total_amount=8.3),\n",
       " Row(lpep_pickup_datetime=datetime.datetime(2020, 1, 5, 16, 32, 26), PULocationID=82, total_amount=8.3),\n",
       " Row(lpep_pickup_datetime=datetime.datetime(2020, 1, 29, 19, 22, 42), PULocationID=166, total_amount=12.74)]"
      ]
     },
     "execution_count": 39,
     "metadata": {},
     "output_type": "execute_result"
    }
   ],
   "source": [
    "df_green_rdd_inter.take(5)"
   ]
  },
  {
   "cell_type": "code",
   "execution_count": 40,
   "metadata": {},
   "outputs": [
    {
     "data": {
      "text/plain": [
       "[Row(VendorID=2, lpep_pickup_datetime=datetime.datetime(2020, 1, 23, 13, 10, 15), lpep_dropoff_datetime=datetime.datetime(2020, 1, 23, 13, 38, 16), store_and_fwd_flag='N', RatecodeID=1, PULocationID=74, DOLocationID=130, passenger_count=1, trip_distance=12.77, fare_amount=36.0, extra=0.0, mta_tax=0.5, tip_amount=2.05, tolls_amount=6.12, ehail_fee=None, improvement_surcharge=0.3, total_amount=44.97, payment_type=1, trip_type=1, congestion_surcharge=0.0),\n",
       " Row(VendorID=None, lpep_pickup_datetime=datetime.datetime(2020, 1, 20, 15, 9), lpep_dropoff_datetime=datetime.datetime(2020, 1, 20, 15, 46), store_and_fwd_flag=None, RatecodeID=None, PULocationID=67, DOLocationID=39, passenger_count=None, trip_distance=8.0, fare_amount=29.9, extra=2.75, mta_tax=0.5, tip_amount=0.0, tolls_amount=0.0, ehail_fee=None, improvement_surcharge=0.3, total_amount=33.45, payment_type=None, trip_type=None, congestion_surcharge=None),\n",
       " Row(VendorID=2, lpep_pickup_datetime=datetime.datetime(2020, 1, 15, 20, 23, 41), lpep_dropoff_datetime=datetime.datetime(2020, 1, 15, 20, 31, 18), store_and_fwd_flag='N', RatecodeID=1, PULocationID=260, DOLocationID=157, passenger_count=1, trip_distance=1.27, fare_amount=7.0, extra=0.5, mta_tax=0.5, tip_amount=0.0, tolls_amount=0.0, ehail_fee=None, improvement_surcharge=0.3, total_amount=8.3, payment_type=2, trip_type=1, congestion_surcharge=0.0),\n",
       " Row(VendorID=2, lpep_pickup_datetime=datetime.datetime(2020, 1, 5, 16, 32, 26), lpep_dropoff_datetime=datetime.datetime(2020, 1, 5, 16, 40, 51), store_and_fwd_flag='N', RatecodeID=1, PULocationID=82, DOLocationID=83, passenger_count=1, trip_distance=1.25, fare_amount=7.5, extra=0.0, mta_tax=0.5, tip_amount=0.0, tolls_amount=0.0, ehail_fee=None, improvement_surcharge=0.3, total_amount=8.3, payment_type=2, trip_type=1, congestion_surcharge=0.0),\n",
       " Row(VendorID=2, lpep_pickup_datetime=datetime.datetime(2020, 1, 29, 19, 22, 42), lpep_dropoff_datetime=datetime.datetime(2020, 1, 29, 19, 31, 2), store_and_fwd_flag='N', RatecodeID=1, PULocationID=166, DOLocationID=42, passenger_count=1, trip_distance=1.84, fare_amount=8.0, extra=1.0, mta_tax=0.5, tip_amount=2.94, tolls_amount=0.0, ehail_fee=None, improvement_surcharge=0.3, total_amount=12.74, payment_type=1, trip_type=1, congestion_surcharge=0.0)]"
      ]
     },
     "execution_count": 40,
     "metadata": {},
     "output_type": "execute_result"
    }
   ],
   "source": [
    "df_green.take(5)"
   ]
  },
  {
   "cell_type": "markdown",
   "metadata": {},
   "source": [
    "'''\n",
    "                        SELECT \n",
    "                              date_trunc(\"hour\", pickup_datetime) as hour, \n",
    "                              PULocationID,\n",
    "                              SUM(total_amount) as amount,\n",
    "                              COUNT(1) as record_number\n",
    "                        FROM green_taxi_trips\n",
    "                        where pickup_datetime >= \"2020-01-01 00:00:00\"\n",
    "                        GROUP BY 1, 2\n",
    "                        --ORDER BY 1, 2\n",
    "                        '''"
   ]
  },
  {
   "cell_type": "code",
   "execution_count": 41,
   "metadata": {},
   "outputs": [
    {
     "data": {
      "text/plain": [
       "[Row(lpep_pickup_datetime=datetime.datetime(2020, 1, 23, 13, 10, 15), PULocationID=74, total_amount=44.97),\n",
       " Row(lpep_pickup_datetime=datetime.datetime(2020, 1, 20, 15, 9), PULocationID=67, total_amount=33.45),\n",
       " Row(lpep_pickup_datetime=datetime.datetime(2020, 1, 15, 20, 23, 41), PULocationID=260, total_amount=8.3),\n",
       " Row(lpep_pickup_datetime=datetime.datetime(2020, 1, 5, 16, 32, 26), PULocationID=82, total_amount=8.3),\n",
       " Row(lpep_pickup_datetime=datetime.datetime(2020, 1, 29, 19, 22, 42), PULocationID=166, total_amount=12.74)]"
      ]
     },
     "execution_count": 41,
     "metadata": {},
     "output_type": "execute_result"
    }
   ],
   "source": [
    "df_green_rdd_inter.filter(lambda row: True).take(5)"
   ]
  },
  {
   "cell_type": "code",
   "execution_count": 42,
   "metadata": {},
   "outputs": [
    {
     "data": {
      "text/plain": [
       "[Row(lpep_pickup_datetime=datetime.datetime(2020, 1, 23, 13, 10, 15), PULocationID=74, total_amount=44.97),\n",
       " Row(lpep_pickup_datetime=datetime.datetime(2020, 1, 20, 15, 9), PULocationID=67, total_amount=33.45),\n",
       " Row(lpep_pickup_datetime=datetime.datetime(2020, 1, 15, 20, 23, 41), PULocationID=260, total_amount=8.3),\n",
       " Row(lpep_pickup_datetime=datetime.datetime(2020, 1, 5, 16, 32, 26), PULocationID=82, total_amount=8.3),\n",
       " Row(lpep_pickup_datetime=datetime.datetime(2020, 1, 29, 19, 22, 42), PULocationID=166, total_amount=12.74),\n",
       " Row(lpep_pickup_datetime=datetime.datetime(2020, 1, 15, 11, 7, 42), PULocationID=179, total_amount=5.8),\n",
       " Row(lpep_pickup_datetime=datetime.datetime(2020, 1, 16, 8, 22, 29), PULocationID=41, total_amount=25.05),\n",
       " Row(lpep_pickup_datetime=datetime.datetime(2020, 1, 28, 17, 5, 28), PULocationID=75, total_amount=21.33),\n",
       " Row(lpep_pickup_datetime=datetime.datetime(2020, 1, 22, 14, 51, 37), PULocationID=152, total_amount=7.8),\n",
       " Row(lpep_pickup_datetime=datetime.datetime(2020, 1, 31, 10, 25, 4), PULocationID=75, total_amount=26.05),\n",
       " Row(lpep_pickup_datetime=datetime.datetime(2020, 1, 20, 15, 50, 54), PULocationID=75, total_amount=10.56),\n",
       " Row(lpep_pickup_datetime=datetime.datetime(2020, 1, 31, 11, 35, 17), PULocationID=260, total_amount=8.3),\n",
       " Row(lpep_pickup_datetime=datetime.datetime(2020, 1, 4, 20, 44, 28), PULocationID=129, total_amount=12.8),\n",
       " Row(lpep_pickup_datetime=datetime.datetime(2020, 1, 17, 21, 47, 52), PULocationID=74, total_amount=13.3),\n",
       " Row(lpep_pickup_datetime=datetime.datetime(2020, 1, 21, 23, 13, 47), PULocationID=61, total_amount=6.3),\n",
       " Row(lpep_pickup_datetime=datetime.datetime(2020, 1, 2, 8, 11, 21), PULocationID=66, total_amount=23.55),\n",
       " Row(lpep_pickup_datetime=datetime.datetime(2020, 1, 27, 2, 59, 20), PULocationID=7, total_amount=7.8),\n",
       " Row(lpep_pickup_datetime=datetime.datetime(2020, 1, 16, 14, 39, 13), PULocationID=74, total_amount=30.3),\n",
       " Row(lpep_pickup_datetime=datetime.datetime(2020, 1, 16, 18, 42, 24), PULocationID=66, total_amount=9.36),\n",
       " Row(lpep_pickup_datetime=datetime.datetime(2020, 1, 3, 9, 24, 54), PULocationID=61, total_amount=7.8),\n",
       " Row(lpep_pickup_datetime=datetime.datetime(2020, 1, 17, 21, 58, 47), PULocationID=236, total_amount=9.36),\n",
       " Row(lpep_pickup_datetime=datetime.datetime(2020, 1, 23, 12, 8), PULocationID=37, total_amount=17.94),\n",
       " Row(lpep_pickup_datetime=datetime.datetime(2020, 1, 24, 7, 26), PULocationID=225, total_amount=23.98),\n",
       " Row(lpep_pickup_datetime=datetime.datetime(2020, 1, 17, 10, 38, 19), PULocationID=166, total_amount=9.95),\n",
       " Row(lpep_pickup_datetime=datetime.datetime(2020, 1, 12, 12, 4, 56), PULocationID=82, total_amount=8.3),\n",
       " Row(lpep_pickup_datetime=datetime.datetime(2020, 1, 28, 16, 7, 8), PULocationID=197, total_amount=49.92),\n",
       " Row(lpep_pickup_datetime=datetime.datetime(2020, 1, 10, 22, 39, 31), PULocationID=95, total_amount=12.25),\n",
       " Row(lpep_pickup_datetime=datetime.datetime(2020, 1, 13, 19, 54, 58), PULocationID=223, total_amount=5.8),\n",
       " Row(lpep_pickup_datetime=datetime.datetime(2020, 1, 3, 21, 19, 11), PULocationID=196, total_amount=22.31),\n",
       " Row(lpep_pickup_datetime=datetime.datetime(2020, 1, 17, 16, 15, 44), PULocationID=42, total_amount=7.8),\n",
       " Row(lpep_pickup_datetime=datetime.datetime(2020, 1, 10, 1, 41), PULocationID=215, total_amount=66.94),\n",
       " Row(lpep_pickup_datetime=datetime.datetime(2020, 1, 21, 17, 40, 5), PULocationID=42, total_amount=8.3),\n",
       " Row(lpep_pickup_datetime=datetime.datetime(2020, 1, 16, 13, 48), PULocationID=14, total_amount=28.15),\n",
       " Row(lpep_pickup_datetime=datetime.datetime(2020, 1, 26, 21, 23, 5), PULocationID=130, total_amount=14.16),\n",
       " Row(lpep_pickup_datetime=datetime.datetime(2020, 1, 21, 18, 32, 22), PULocationID=166, total_amount=27.66),\n",
       " Row(lpep_pickup_datetime=datetime.datetime(2020, 1, 28, 8, 25), PULocationID=33, total_amount=28.02),\n",
       " Row(lpep_pickup_datetime=datetime.datetime(2020, 1, 3, 11, 39), PULocationID=250, total_amount=31.48),\n",
       " Row(lpep_pickup_datetime=datetime.datetime(2020, 1, 20, 18, 24, 20), PULocationID=116, total_amount=6.8),\n",
       " Row(lpep_pickup_datetime=datetime.datetime(2020, 1, 25, 23, 43, 44), PULocationID=256, total_amount=19.8),\n",
       " Row(lpep_pickup_datetime=datetime.datetime(2020, 1, 30, 14, 7, 50), PULocationID=116, total_amount=11.8),\n",
       " Row(lpep_pickup_datetime=datetime.datetime(2020, 1, 23, 15, 59, 2), PULocationID=166, total_amount=16.55),\n",
       " Row(lpep_pickup_datetime=datetime.datetime(2020, 1, 12, 17, 58, 24), PULocationID=41, total_amount=5.16),\n",
       " Row(lpep_pickup_datetime=datetime.datetime(2020, 1, 7, 18, 52, 4), PULocationID=25, total_amount=7.56),\n",
       " Row(lpep_pickup_datetime=datetime.datetime(2020, 1, 1, 1, 24, 34), PULocationID=181, total_amount=13.5),\n",
       " Row(lpep_pickup_datetime=datetime.datetime(2020, 1, 18, 7, 59, 18), PULocationID=55, total_amount=48.3),\n",
       " Row(lpep_pickup_datetime=datetime.datetime(2020, 1, 28, 9, 30, 42), PULocationID=166, total_amount=6.95),\n",
       " Row(lpep_pickup_datetime=datetime.datetime(2020, 1, 13, 12, 29, 15), PULocationID=65, total_amount=16.64),\n",
       " Row(lpep_pickup_datetime=datetime.datetime(2020, 1, 20, 0, 35, 43), PULocationID=74, total_amount=8.3),\n",
       " Row(lpep_pickup_datetime=datetime.datetime(2020, 1, 5, 19, 0, 10), PULocationID=74, total_amount=25.05),\n",
       " Row(lpep_pickup_datetime=datetime.datetime(2020, 1, 18, 1, 39, 50), PULocationID=97, total_amount=9.3),\n",
       " Row(lpep_pickup_datetime=datetime.datetime(2020, 1, 27, 19, 59, 53), PULocationID=7, total_amount=8.5),\n",
       " Row(lpep_pickup_datetime=datetime.datetime(2020, 1, 12, 15, 57, 6), PULocationID=82, total_amount=6.3),\n",
       " Row(lpep_pickup_datetime=datetime.datetime(2020, 1, 11, 16, 58, 41), PULocationID=65, total_amount=9.8),\n",
       " Row(lpep_pickup_datetime=datetime.datetime(2020, 1, 21, 14, 45, 26), PULocationID=74, total_amount=6.95),\n",
       " Row(lpep_pickup_datetime=datetime.datetime(2020, 1, 16, 11, 53, 37), PULocationID=25, total_amount=5.3),\n",
       " Row(lpep_pickup_datetime=datetime.datetime(2020, 1, 8, 16, 3), PULocationID=72, total_amount=26.36),\n",
       " Row(lpep_pickup_datetime=datetime.datetime(2020, 1, 31, 18, 37, 1), PULocationID=74, total_amount=22.55),\n",
       " Row(lpep_pickup_datetime=datetime.datetime(2020, 1, 14, 8, 36), PULocationID=167, total_amount=36.71),\n",
       " Row(lpep_pickup_datetime=datetime.datetime(2020, 1, 3, 11, 36), PULocationID=51, total_amount=27.67),\n",
       " Row(lpep_pickup_datetime=datetime.datetime(2020, 1, 11, 18, 14, 20), PULocationID=42, total_amount=5.8),\n",
       " Row(lpep_pickup_datetime=datetime.datetime(2020, 1, 23, 12, 1, 50), PULocationID=25, total_amount=21.73),\n",
       " Row(lpep_pickup_datetime=datetime.datetime(2020, 1, 30, 9, 52), PULocationID=22, total_amount=22.46),\n",
       " Row(lpep_pickup_datetime=datetime.datetime(2020, 1, 31, 18, 36, 3), PULocationID=260, total_amount=9.3),\n",
       " Row(lpep_pickup_datetime=datetime.datetime(2020, 1, 10, 20, 52, 40), PULocationID=66, total_amount=23.14),\n",
       " Row(lpep_pickup_datetime=datetime.datetime(2020, 1, 31, 15, 59, 43), PULocationID=43, total_amount=9.75),\n",
       " Row(lpep_pickup_datetime=datetime.datetime(2020, 1, 9, 5, 32), PULocationID=243, total_amount=46.97),\n",
       " Row(lpep_pickup_datetime=datetime.datetime(2020, 1, 31, 21, 50, 33), PULocationID=41, total_amount=28.55),\n",
       " Row(lpep_pickup_datetime=datetime.datetime(2020, 1, 7, 21, 16, 31), PULocationID=37, total_amount=35.0),\n",
       " Row(lpep_pickup_datetime=datetime.datetime(2020, 1, 23, 22, 53, 36), PULocationID=166, total_amount=4.8),\n",
       " Row(lpep_pickup_datetime=datetime.datetime(2020, 1, 25, 18, 30, 34), PULocationID=65, total_amount=20.3),\n",
       " Row(lpep_pickup_datetime=datetime.datetime(2020, 1, 5, 9, 7), PULocationID=179, total_amount=45.24),\n",
       " Row(lpep_pickup_datetime=datetime.datetime(2020, 1, 26, 14, 44, 27), PULocationID=166, total_amount=9.8),\n",
       " Row(lpep_pickup_datetime=datetime.datetime(2020, 1, 28, 10, 21), PULocationID=76, total_amount=18.48),\n",
       " Row(lpep_pickup_datetime=datetime.datetime(2020, 1, 23, 9, 9, 43), PULocationID=74, total_amount=22.55),\n",
       " Row(lpep_pickup_datetime=datetime.datetime(2020, 1, 5, 0, 45, 16), PULocationID=7, total_amount=7.3),\n",
       " Row(lpep_pickup_datetime=datetime.datetime(2020, 1, 30, 11, 12), PULocationID=37, total_amount=26.36),\n",
       " Row(lpep_pickup_datetime=datetime.datetime(2020, 1, 14, 8, 58), PULocationID=89, total_amount=22.98),\n",
       " Row(lpep_pickup_datetime=datetime.datetime(2020, 1, 28, 15, 42, 52), PULocationID=75, total_amount=7.8),\n",
       " Row(lpep_pickup_datetime=datetime.datetime(2020, 1, 22, 8, 5, 18), PULocationID=222, total_amount=27.0),\n",
       " Row(lpep_pickup_datetime=datetime.datetime(2020, 1, 23, 12, 47), PULocationID=119, total_amount=21.57),\n",
       " Row(lpep_pickup_datetime=datetime.datetime(2020, 1, 13, 9, 0, 18), PULocationID=7, total_amount=6.8),\n",
       " Row(lpep_pickup_datetime=datetime.datetime(2020, 1, 31, 14, 30, 28), PULocationID=82, total_amount=9.8),\n",
       " Row(lpep_pickup_datetime=datetime.datetime(2020, 1, 10, 18, 47, 36), PULocationID=260, total_amount=19.56),\n",
       " Row(lpep_pickup_datetime=datetime.datetime(2020, 1, 13, 16, 12, 10), PULocationID=7, total_amount=11.76),\n",
       " Row(lpep_pickup_datetime=datetime.datetime(2020, 1, 24, 6, 25), PULocationID=127, total_amount=42.12),\n",
       " Row(lpep_pickup_datetime=datetime.datetime(2020, 1, 23, 19, 8, 48), PULocationID=33, total_amount=16.8),\n",
       " Row(lpep_pickup_datetime=datetime.datetime(2020, 1, 17, 15, 7, 58), PULocationID=145, total_amount=26.16),\n",
       " Row(lpep_pickup_datetime=datetime.datetime(2020, 1, 15, 23, 10), PULocationID=92, total_amount=55.41),\n",
       " Row(lpep_pickup_datetime=datetime.datetime(2020, 1, 10, 22, 10, 18), PULocationID=130, total_amount=8.3),\n",
       " Row(lpep_pickup_datetime=datetime.datetime(2020, 1, 6, 16, 13), PULocationID=242, total_amount=15.52),\n",
       " Row(lpep_pickup_datetime=datetime.datetime(2020, 1, 11, 10, 9, 24), PULocationID=112, total_amount=7.8),\n",
       " Row(lpep_pickup_datetime=datetime.datetime(2020, 1, 28, 0, 5, 6), PULocationID=75, total_amount=7.3),\n",
       " Row(lpep_pickup_datetime=datetime.datetime(2020, 1, 6, 8, 36, 37), PULocationID=116, total_amount=9.3),\n",
       " Row(lpep_pickup_datetime=datetime.datetime(2020, 1, 12, 0, 28, 16), PULocationID=127, total_amount=17.8),\n",
       " Row(lpep_pickup_datetime=datetime.datetime(2020, 1, 19, 14, 27), PULocationID=89, total_amount=8.5),\n",
       " Row(lpep_pickup_datetime=datetime.datetime(2020, 1, 10, 21, 30, 55), PULocationID=43, total_amount=13.71),\n",
       " Row(lpep_pickup_datetime=datetime.datetime(2020, 1, 18, 6, 48, 55), PULocationID=41, total_amount=6.3),\n",
       " Row(lpep_pickup_datetime=datetime.datetime(2020, 1, 2, 20, 3, 29), PULocationID=97, total_amount=16.3),\n",
       " Row(lpep_pickup_datetime=datetime.datetime(2020, 1, 10, 10, 28), PULocationID=26, total_amount=20.16),\n",
       " Row(lpep_pickup_datetime=datetime.datetime(2020, 1, 8, 15, 32), PULocationID=254, total_amount=30.17),\n",
       " Row(lpep_pickup_datetime=datetime.datetime(2020, 1, 28, 17, 8, 54), PULocationID=7, total_amount=15.99),\n",
       " Row(lpep_pickup_datetime=datetime.datetime(2020, 1, 7, 7, 22, 25), PULocationID=74, total_amount=14.3),\n",
       " Row(lpep_pickup_datetime=datetime.datetime(2020, 1, 31, 15, 57, 33), PULocationID=26, total_amount=19.3),\n",
       " Row(lpep_pickup_datetime=datetime.datetime(2020, 1, 11, 11, 3, 28), PULocationID=196, total_amount=22.8),\n",
       " Row(lpep_pickup_datetime=datetime.datetime(2020, 1, 19, 14, 57, 18), PULocationID=74, total_amount=9.8),\n",
       " Row(lpep_pickup_datetime=datetime.datetime(2020, 1, 29, 7, 47, 17), PULocationID=41, total_amount=7.8),\n",
       " Row(lpep_pickup_datetime=datetime.datetime(2020, 1, 6, 22, 26, 59), PULocationID=95, total_amount=17.29),\n",
       " Row(lpep_pickup_datetime=datetime.datetime(2020, 1, 7, 14, 30, 28), PULocationID=41, total_amount=6.3),\n",
       " Row(lpep_pickup_datetime=datetime.datetime(2020, 1, 21, 12, 38, 29), PULocationID=166, total_amount=13.71),\n",
       " Row(lpep_pickup_datetime=datetime.datetime(2020, 1, 10, 5, 43), PULocationID=35, total_amount=20.14),\n",
       " Row(lpep_pickup_datetime=datetime.datetime(2020, 1, 27, 8, 37, 44), PULocationID=166, total_amount=34.05),\n",
       " Row(lpep_pickup_datetime=datetime.datetime(2020, 1, 10, 12, 19, 14), PULocationID=121, total_amount=27.0),\n",
       " Row(lpep_pickup_datetime=datetime.datetime(2020, 1, 9, 19, 56, 33), PULocationID=62, total_amount=18.8),\n",
       " Row(lpep_pickup_datetime=datetime.datetime(2020, 1, 10, 1, 47, 56), PULocationID=80, total_amount=14.16),\n",
       " Row(lpep_pickup_datetime=datetime.datetime(2020, 1, 10, 11, 3), PULocationID=165, total_amount=30.26),\n",
       " Row(lpep_pickup_datetime=datetime.datetime(2020, 1, 24, 16, 0, 34), PULocationID=43, total_amount=20.46),\n",
       " Row(lpep_pickup_datetime=datetime.datetime(2020, 1, 17, 0, 7, 5), PULocationID=33, total_amount=10.14),\n",
       " Row(lpep_pickup_datetime=datetime.datetime(2020, 1, 6, 6, 39), PULocationID=203, total_amount=35.0),\n",
       " Row(lpep_pickup_datetime=datetime.datetime(2020, 1, 24, 16, 22, 49), PULocationID=74, total_amount=17.94),\n",
       " Row(lpep_pickup_datetime=datetime.datetime(2020, 1, 8, 22, 55), PULocationID=236, total_amount=25.0),\n",
       " Row(lpep_pickup_datetime=datetime.datetime(2020, 1, 4, 7, 8), PULocationID=91, total_amount=30.11),\n",
       " Row(lpep_pickup_datetime=datetime.datetime(2020, 1, 9, 18, 35, 29), PULocationID=174, total_amount=40.6),\n",
       " Row(lpep_pickup_datetime=datetime.datetime(2020, 1, 9, 11, 4), PULocationID=108, total_amount=11.61),\n",
       " Row(lpep_pickup_datetime=datetime.datetime(2020, 1, 23, 17, 36, 31), PULocationID=72, total_amount=14.8),\n",
       " Row(lpep_pickup_datetime=datetime.datetime(2020, 1, 10, 0, 42, 47), PULocationID=75, total_amount=24.44),\n",
       " Row(lpep_pickup_datetime=datetime.datetime(2020, 1, 24, 19, 6, 41), PULocationID=7, total_amount=6.8),\n",
       " Row(lpep_pickup_datetime=datetime.datetime(2020, 1, 22, 18, 35, 10), PULocationID=7, total_amount=8.76),\n",
       " Row(lpep_pickup_datetime=datetime.datetime(2020, 1, 4, 8, 58), PULocationID=86, total_amount=73.32),\n",
       " Row(lpep_pickup_datetime=datetime.datetime(2020, 1, 21, 22, 38), PULocationID=63, total_amount=41.32),\n",
       " Row(lpep_pickup_datetime=datetime.datetime(2020, 1, 30, 17, 32), PULocationID=91, total_amount=46.5),\n",
       " Row(lpep_pickup_datetime=datetime.datetime(2020, 1, 14, 19, 37, 56), PULocationID=223, total_amount=30.61),\n",
       " Row(lpep_pickup_datetime=datetime.datetime(2020, 1, 10, 19, 50, 15), PULocationID=41, total_amount=15.8),\n",
       " Row(lpep_pickup_datetime=datetime.datetime(2020, 1, 13, 18, 13, 26), PULocationID=28, total_amount=9.3),\n",
       " Row(lpep_pickup_datetime=datetime.datetime(2020, 1, 26, 0, 59, 50), PULocationID=255, total_amount=16.0),\n",
       " Row(lpep_pickup_datetime=datetime.datetime(2020, 1, 8, 18, 20), PULocationID=7, total_amount=38.97),\n",
       " Row(lpep_pickup_datetime=datetime.datetime(2020, 1, 24, 22, 1), PULocationID=52, total_amount=49.2),\n",
       " Row(lpep_pickup_datetime=datetime.datetime(2020, 1, 5, 10, 50, 5), PULocationID=193, total_amount=3.81),\n",
       " Row(lpep_pickup_datetime=datetime.datetime(2020, 1, 12, 9, 28, 48), PULocationID=168, total_amount=18.0),\n",
       " Row(lpep_pickup_datetime=datetime.datetime(2020, 1, 29, 16, 51), PULocationID=25, total_amount=23.98),\n",
       " Row(lpep_pickup_datetime=datetime.datetime(2020, 1, 13, 6, 52), PULocationID=51, total_amount=49.49),\n",
       " Row(lpep_pickup_datetime=datetime.datetime(2020, 1, 10, 22, 23, 17), PULocationID=41, total_amount=8.8),\n",
       " Row(lpep_pickup_datetime=datetime.datetime(2020, 1, 27, 11, 18, 49), PULocationID=82, total_amount=9.3),\n",
       " Row(lpep_pickup_datetime=datetime.datetime(2020, 1, 4, 17, 52, 37), PULocationID=75, total_amount=19.8),\n",
       " Row(lpep_pickup_datetime=datetime.datetime(2020, 1, 2, 6, 58), PULocationID=197, total_amount=17.8),\n",
       " Row(lpep_pickup_datetime=datetime.datetime(2020, 1, 15, 9, 51, 20), PULocationID=40, total_amount=7.56),\n",
       " Row(lpep_pickup_datetime=datetime.datetime(2020, 1, 24, 12, 13, 33), PULocationID=174, total_amount=20.0),\n",
       " Row(lpep_pickup_datetime=datetime.datetime(2020, 1, 2, 23, 52, 39), PULocationID=95, total_amount=12.3),\n",
       " Row(lpep_pickup_datetime=datetime.datetime(2020, 1, 7, 17, 49, 21), PULocationID=25, total_amount=10.8),\n",
       " Row(lpep_pickup_datetime=datetime.datetime(2020, 1, 22, 19, 43, 6), PULocationID=75, total_amount=7.8),\n",
       " Row(lpep_pickup_datetime=datetime.datetime(2020, 1, 4, 10, 1), PULocationID=212, total_amount=32.07),\n",
       " Row(lpep_pickup_datetime=datetime.datetime(2020, 1, 8, 14, 57), PULocationID=130, total_amount=17.32),\n",
       " Row(lpep_pickup_datetime=datetime.datetime(2020, 1, 8, 9, 37, 49), PULocationID=42, total_amount=7.3),\n",
       " Row(lpep_pickup_datetime=datetime.datetime(2020, 1, 8, 19, 43, 13), PULocationID=181, total_amount=42.96),\n",
       " Row(lpep_pickup_datetime=datetime.datetime(2020, 1, 22, 12, 26, 37), PULocationID=43, total_amount=6.8),\n",
       " Row(lpep_pickup_datetime=datetime.datetime(2020, 1, 12, 19, 17, 38), PULocationID=41, total_amount=6.36),\n",
       " Row(lpep_pickup_datetime=datetime.datetime(2020, 1, 3, 10, 2), PULocationID=177, total_amount=23.98),\n",
       " Row(lpep_pickup_datetime=datetime.datetime(2020, 1, 11, 12, 20), PULocationID=86, total_amount=27.8),\n",
       " Row(lpep_pickup_datetime=datetime.datetime(2020, 1, 11, 10, 14, 36), PULocationID=49, total_amount=8.75),\n",
       " Row(lpep_pickup_datetime=datetime.datetime(2020, 1, 20, 21, 6, 31), PULocationID=97, total_amount=16.0),\n",
       " Row(lpep_pickup_datetime=datetime.datetime(2020, 1, 25, 14, 25), PULocationID=102, total_amount=26.22),\n",
       " Row(lpep_pickup_datetime=datetime.datetime(2020, 1, 6, 22, 49, 47), PULocationID=74, total_amount=14.76),\n",
       " Row(lpep_pickup_datetime=datetime.datetime(2020, 1, 5, 17, 38, 25), PULocationID=74, total_amount=8.3),\n",
       " Row(lpep_pickup_datetime=datetime.datetime(2020, 1, 29, 11, 0, 38), PULocationID=215, total_amount=40.0),\n",
       " Row(lpep_pickup_datetime=datetime.datetime(2020, 1, 15, 22, 8, 7), PULocationID=260, total_amount=8.3),\n",
       " Row(lpep_pickup_datetime=datetime.datetime(2020, 1, 31, 14, 28), PULocationID=262, total_amount=24.23),\n",
       " Row(lpep_pickup_datetime=datetime.datetime(2020, 1, 31, 8, 27, 53), PULocationID=182, total_amount=6.3),\n",
       " Row(lpep_pickup_datetime=datetime.datetime(2020, 1, 17, 10, 7, 38), PULocationID=74, total_amount=9.3),\n",
       " Row(lpep_pickup_datetime=datetime.datetime(2020, 1, 23, 8, 20, 30), PULocationID=74, total_amount=6.8),\n",
       " Row(lpep_pickup_datetime=datetime.datetime(2020, 1, 4, 10, 9, 33), PULocationID=152, total_amount=12.8),\n",
       " Row(lpep_pickup_datetime=datetime.datetime(2020, 1, 8, 23, 24, 13), PULocationID=41, total_amount=25.05),\n",
       " Row(lpep_pickup_datetime=datetime.datetime(2020, 1, 11, 4, 2, 7), PULocationID=7, total_amount=17.16),\n",
       " Row(lpep_pickup_datetime=datetime.datetime(2020, 1, 21, 19, 16, 5), PULocationID=255, total_amount=8.3),\n",
       " Row(lpep_pickup_datetime=datetime.datetime(2020, 1, 9, 16, 28), PULocationID=226, total_amount=36.35),\n",
       " Row(lpep_pickup_datetime=datetime.datetime(2020, 1, 13, 18, 5, 13), PULocationID=75, total_amount=9.36),\n",
       " Row(lpep_pickup_datetime=datetime.datetime(2020, 1, 10, 10, 6, 23), PULocationID=82, total_amount=34.55),\n",
       " Row(lpep_pickup_datetime=datetime.datetime(2020, 1, 22, 10, 20, 53), PULocationID=33, total_amount=11.76),\n",
       " Row(lpep_pickup_datetime=datetime.datetime(2020, 1, 13, 0, 45, 42), PULocationID=82, total_amount=11.3),\n",
       " Row(lpep_pickup_datetime=datetime.datetime(2020, 1, 26, 19, 2), PULocationID=185, total_amount=37.61),\n",
       " Row(lpep_pickup_datetime=datetime.datetime(2020, 1, 7, 11, 8), PULocationID=95, total_amount=22.16),\n",
       " Row(lpep_pickup_datetime=datetime.datetime(2020, 1, 6, 10, 37, 39), PULocationID=25, total_amount=10.3),\n",
       " Row(lpep_pickup_datetime=datetime.datetime(2020, 1, 29, 8, 13, 23), PULocationID=75, total_amount=9.8),\n",
       " Row(lpep_pickup_datetime=datetime.datetime(2020, 1, 28, 9, 40), PULocationID=243, total_amount=15.39),\n",
       " Row(lpep_pickup_datetime=datetime.datetime(2020, 1, 30, 18, 21, 9), PULocationID=82, total_amount=11.3),\n",
       " Row(lpep_pickup_datetime=datetime.datetime(2020, 1, 5, 18, 14, 8), PULocationID=66, total_amount=10.0),\n",
       " Row(lpep_pickup_datetime=datetime.datetime(2020, 1, 10, 15, 39, 37), PULocationID=223, total_amount=8.75),\n",
       " Row(lpep_pickup_datetime=datetime.datetime(2020, 1, 12, 11, 25, 23), PULocationID=196, total_amount=6.8),\n",
       " Row(lpep_pickup_datetime=datetime.datetime(2020, 1, 21, 8, 2, 8), PULocationID=127, total_amount=9.8),\n",
       " Row(lpep_pickup_datetime=datetime.datetime(2020, 1, 20, 17, 6, 12), PULocationID=260, total_amount=8.3),\n",
       " Row(lpep_pickup_datetime=datetime.datetime(2020, 1, 17, 17, 6, 9), PULocationID=66, total_amount=12.3),\n",
       " Row(lpep_pickup_datetime=datetime.datetime(2020, 1, 11, 12, 42, 28), PULocationID=166, total_amount=9.96),\n",
       " Row(lpep_pickup_datetime=datetime.datetime(2020, 1, 29, 17, 22, 23), PULocationID=260, total_amount=10.3),\n",
       " Row(lpep_pickup_datetime=datetime.datetime(2020, 1, 21, 10, 20), PULocationID=131, total_amount=35.86),\n",
       " Row(lpep_pickup_datetime=datetime.datetime(2020, 1, 31, 17, 14, 47), PULocationID=130, total_amount=21.0),\n",
       " Row(lpep_pickup_datetime=datetime.datetime(2020, 1, 25, 11, 56, 19), PULocationID=65, total_amount=13.39),\n",
       " Row(lpep_pickup_datetime=datetime.datetime(2020, 1, 4, 15, 29), PULocationID=177, total_amount=41.99),\n",
       " Row(lpep_pickup_datetime=datetime.datetime(2020, 1, 6, 7, 48), PULocationID=61, total_amount=64.94),\n",
       " Row(lpep_pickup_datetime=datetime.datetime(2020, 1, 27, 7, 3), PULocationID=122, total_amount=21.63),\n",
       " Row(lpep_pickup_datetime=datetime.datetime(2020, 1, 18, 14, 25), PULocationID=174, total_amount=48.21),\n",
       " Row(lpep_pickup_datetime=datetime.datetime(2020, 1, 14, 18, 44, 43), PULocationID=76, total_amount=10.3),\n",
       " Row(lpep_pickup_datetime=datetime.datetime(2020, 1, 29, 1, 42, 15), PULocationID=256, total_amount=29.12)]"
      ]
     },
     "execution_count": 42,
     "metadata": {},
     "output_type": "execute_result"
    }
   ],
   "source": [
    "df_green_rdd_inter.filter(lambda row: False if row[\"total_amount\"] == \"BINARY\" else True).take(200)"
   ]
  },
  {
   "cell_type": "code",
   "execution_count": 44,
   "metadata": {},
   "outputs": [
    {
     "data": {
      "text/plain": [
       "[Row(lpep_pickup_datetime=datetime.datetime(2020, 1, 23, 13, 10, 15), PULocationID=74, total_amount=44.97)]"
      ]
     },
     "execution_count": 44,
     "metadata": {},
     "output_type": "execute_result"
    }
   ],
   "source": [
    "df_green_rdd_inter.filter(lambda row: True if isinstance(row[\"total_amount\"], float) else False).take(1)\n"
   ]
  },
  {
   "cell_type": "code",
   "execution_count": 45,
   "metadata": {},
   "outputs": [],
   "source": [
    "df_green_rdd = df_green_rdd_inter \\\n",
    "                .filter(lambda row: False if row[\"total_amount\"] == \"BINARY\" else True)"
   ]
  },
  {
   "cell_type": "code",
   "execution_count": 46,
   "metadata": {},
   "outputs": [
    {
     "data": {
      "text/plain": [
       "[Row(lpep_pickup_datetime=datetime.datetime(2020, 1, 23, 13, 10, 15), PULocationID=74, total_amount=44.97),\n",
       " Row(lpep_pickup_datetime=datetime.datetime(2020, 1, 20, 15, 9), PULocationID=67, total_amount=33.45),\n",
       " Row(lpep_pickup_datetime=datetime.datetime(2020, 1, 15, 20, 23, 41), PULocationID=260, total_amount=8.3),\n",
       " Row(lpep_pickup_datetime=datetime.datetime(2020, 1, 5, 16, 32, 26), PULocationID=82, total_amount=8.3),\n",
       " Row(lpep_pickup_datetime=datetime.datetime(2020, 1, 29, 19, 22, 42), PULocationID=166, total_amount=12.74)]"
      ]
     },
     "execution_count": 46,
     "metadata": {},
     "output_type": "execute_result"
    }
   ],
   "source": [
    "df_green_rdd.take(5)"
   ]
  },
  {
   "cell_type": "code",
   "execution_count": 47,
   "metadata": {},
   "outputs": [],
   "source": [
    "from datetime import datetime"
   ]
  },
  {
   "cell_type": "code",
   "execution_count": 48,
   "metadata": {},
   "outputs": [],
   "source": [
    "start = datetime(2020, 1, 1)"
   ]
  },
  {
   "cell_type": "code",
   "execution_count": 49,
   "metadata": {},
   "outputs": [
    {
     "data": {
      "text/plain": [
       "[Row(lpep_pickup_datetime=datetime.datetime(2020, 1, 23, 13, 10, 15), PULocationID=74, total_amount=44.97),\n",
       " Row(lpep_pickup_datetime=datetime.datetime(2020, 1, 20, 15, 9), PULocationID=67, total_amount=33.45),\n",
       " Row(lpep_pickup_datetime=datetime.datetime(2020, 1, 15, 20, 23, 41), PULocationID=260, total_amount=8.3),\n",
       " Row(lpep_pickup_datetime=datetime.datetime(2020, 1, 5, 16, 32, 26), PULocationID=82, total_amount=8.3),\n",
       " Row(lpep_pickup_datetime=datetime.datetime(2020, 1, 29, 19, 22, 42), PULocationID=166, total_amount=12.74)]"
      ]
     },
     "execution_count": 49,
     "metadata": {},
     "output_type": "execute_result"
    }
   ],
   "source": [
    "df_green_rdd \\\n",
    "        .filter(lambda row: row[\"lpep_pickup_datetime\"] >= start).take(5)"
   ]
  },
  {
   "cell_type": "code",
   "execution_count": 50,
   "metadata": {},
   "outputs": [],
   "source": [
    "def filter_by_date(row):\n",
    "    start = datetime(2020, 1, 1)\n",
    "    return row['lpep_pickup_datetime'] >= start"
   ]
  },
  {
   "cell_type": "code",
   "execution_count": 51,
   "metadata": {},
   "outputs": [
    {
     "data": {
      "text/plain": [
       "Row(lpep_pickup_datetime=datetime.datetime(2020, 1, 23, 13, 10, 15), PULocationID=74, total_amount=44.97)"
      ]
     },
     "execution_count": 51,
     "metadata": {},
     "output_type": "execute_result"
    }
   ],
   "source": [
    "df_green_row = df_green_rdd.take(5)[0]\n",
    "df_green_row"
   ]
  },
  {
   "cell_type": "code",
   "execution_count": 52,
   "metadata": {},
   "outputs": [
    {
     "data": {
      "text/plain": [
       "True"
      ]
     },
     "execution_count": 52,
     "metadata": {},
     "output_type": "execute_result"
    }
   ],
   "source": [
    "filter_by_date(df_green_row)"
   ]
  },
  {
   "cell_type": "code",
   "execution_count": 53,
   "metadata": {},
   "outputs": [],
   "source": [
    "def prepare_for_grouping(row):\n",
    "    hour = row['lpep_pickup_datetime'].replace(minute=0, second=0)\n",
    "    zone = row['PULocationID']\n",
    "    amount = row['total_amount']\n",
    "    count = 1\n",
    "    key = (hour, zone)\n",
    "    value = (amount, count)\n",
    "    return (key, value)"
   ]
  },
  {
   "cell_type": "code",
   "execution_count": 54,
   "metadata": {},
   "outputs": [],
   "source": [
    "def calculate_revenue(left_value, right_value):\n",
    "    left_amount, left_count = left_value\n",
    "    right_amount, right_count = right_value\n",
    "    output_amount = left_amount + right_amount\n",
    "    output_count = left_count + right_count\n",
    "    return (output_amount, output_count)"
   ]
  },
  {
   "cell_type": "code",
   "execution_count": 55,
   "metadata": {},
   "outputs": [
    {
     "data": {
      "text/plain": [
       "[((datetime.datetime(2020, 1, 23, 13, 0), 74), (44.97, 1)),\n",
       " ((datetime.datetime(2020, 1, 20, 15, 0), 67), (33.45, 1)),\n",
       " ((datetime.datetime(2020, 1, 15, 20, 0), 260), (8.3, 1)),\n",
       " ((datetime.datetime(2020, 1, 5, 16, 0), 82), (8.3, 1)),\n",
       " ((datetime.datetime(2020, 1, 29, 19, 0), 166), (12.74, 1))]"
      ]
     },
     "execution_count": 55,
     "metadata": {},
     "output_type": "execute_result"
    }
   ],
   "source": [
    "df_green_rdd \\\n",
    "                .filter(filter_by_date) \\\n",
    "                .map(prepare_for_grouping) \\\n",
    "                .take(5)"
   ]
  },
  {
   "cell_type": "code",
   "execution_count": null,
   "metadata": {},
   "outputs": [],
   "source": []
  }
 ],
 "metadata": {
  "kernelspec": {
   "display_name": "Python 3 (ipykernel)",
   "language": "python",
   "name": "python3"
  },
  "language_info": {
   "codemirror_mode": {
    "name": "ipython",
    "version": 3
   },
   "file_extension": ".py",
   "mimetype": "text/x-python",
   "name": "python",
   "nbconvert_exporter": "python",
   "pygments_lexer": "ipython3",
   "version": "3.8.10"
  }
 },
 "nbformat": 4,
 "nbformat_minor": 2
}
