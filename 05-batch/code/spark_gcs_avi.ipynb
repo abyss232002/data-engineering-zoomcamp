{
 "cells": [
  {
   "cell_type": "code",
   "execution_count": 1,
   "metadata": {},
   "outputs": [],
   "source": [
    "import pyspark\n",
    "from pyspark.sql import SparkSession\n",
    "from pyspark.conf import SparkConf\n",
    "from pyspark.context import SparkContext"
   ]
  },
  {
   "cell_type": "code",
   "execution_count": 2,
   "metadata": {},
   "outputs": [
    {
     "name": "stdout",
     "output_type": "stream",
     "text": [
      ":: loading settings :: url = jar:file:/home/abyssde232024/spark/spark-3.3.2-bin-hadoop3/jars/ivy-2.5.1.jar!/org/apache/ivy/core/settings/ivysettings.xml\n"
     ]
    },
    {
     "name": "stderr",
     "output_type": "stream",
     "text": [
      "Ivy Default Cache set to: /home/abyssde232024/.ivy2/cache\n",
      "The jars for the packages stored in: /home/abyssde232024/.ivy2/jars\n",
      "com.google.cloud.spark#spark-bigquery-with-dependencies_2.12 added as a dependency\n",
      "com.google.cloud.bigdataoss#gcs-connector added as a dependency\n",
      ":: resolving dependencies :: org.apache.spark#spark-submit-parent-b7766c05-0e42-46e4-b0f6-a753318460a0;1.0\n",
      "\tconfs: [default]\n",
      "\tfound com.google.cloud.spark#spark-bigquery-with-dependencies_2.12;0.15.1-beta in central\n",
      "\tfound com.google.cloud.bigdataoss#gcs-connector;hadoop2-2.1.6 in central\n",
      "\tfound com.google.api-client#google-api-client-java6;1.30.10 in central\n",
      "\tfound com.google.api-client#google-api-client;1.30.10 in central\n",
      "\tfound com.google.oauth-client#google-oauth-client;1.31.2 in central\n",
      "\tfound com.google.http-client#google-http-client;1.38.0 in central\n",
      "\tfound org.apache.httpcomponents#httpclient;4.5.13 in central\n",
      "\tfound org.apache.httpcomponents#httpcore;4.4.13 in central\n",
      "\tfound commons-logging#commons-logging;1.2 in central\n",
      "\tfound commons-codec#commons-codec;1.15 in central\n",
      "\tfound com.google.code.findbugs#jsr305;3.0.2 in central\n",
      "\tfound com.google.guava#guava;30.0-jre in central\n",
      "\tfound com.google.guava#failureaccess;1.0.1 in central\n",
      "\tfound com.google.guava#listenablefuture;9999.0-empty-to-avoid-conflict-with-guava in central\n",
      "\tfound org.checkerframework#checker-qual;3.5.0 in central\n",
      "\tfound com.google.errorprone#error_prone_annotations;2.3.4 in central\n",
      "\tfound com.google.j2objc#j2objc-annotations;1.3 in central\n",
      "\tfound io.opencensus#opencensus-api;0.24.0 in central\n",
      "\tfound io.grpc#grpc-context;1.22.1 in central\n",
      "\tfound io.opencensus#opencensus-contrib-http-util;0.24.0 in central\n",
      "\tfound com.google.http-client#google-http-client-jackson2;1.36.0 in central\n",
      "\tfound com.fasterxml.jackson.core#jackson-core;2.11.1 in central\n",
      "\tfound com.google.oauth-client#google-oauth-client-java6;1.31.2 in central\n",
      "\tfound com.google.api-client#google-api-client-jackson2;1.30.10 in central\n",
      "\tfound com.google.apis#google-api-services-storage;v1-rev20200927-1.30.10 in central\n",
      "\tfound com.google.cloud.bigdataoss#util;2.1.6 in central\n",
      "\tfound com.google.apis#google-api-services-iamcredentials;v1-rev20201022-1.30.10 in central\n",
      "\tfound com.google.auto.value#auto-value-annotations;1.7.4 in central\n",
      "\tfound com.google.flogger#google-extensions;0.5.1 in central\n",
      "\tfound com.google.flogger#flogger;0.5.1 in central\n",
      "\tfound org.checkerframework#checker-compat-qual;2.5.3 in central\n",
      "\tfound com.google.flogger#flogger-system-backend;0.5.1 in central\n",
      "\tfound com.google.cloud.bigdataoss#util-hadoop;hadoop2-2.1.6 in central\n",
      "\tfound com.google.flogger#flogger-slf4j-backend;0.5.1 in central\n",
      "\tfound org.slf4j#slf4j-api;1.7.14 in central\n",
      "\tfound com.google.cloud.bigdataoss#gcsio;2.1.6 in central\n",
      "\tfound com.google.auth#google-auth-library-oauth2-http;0.22.0 in central\n",
      "\tfound com.google.auth#google-auth-library-credentials;0.22.0 in central\n",
      "\tfound com.google.http-client#google-http-client-jackson2;1.37.0 in central\n",
      "\tfound com.fasterxml.jackson.core#jackson-core;2.11.3 in central\n",
      "\tfound io.grpc#grpc-auth;1.33.1 in central\n",
      "\tfound io.grpc#grpc-api;1.33.1 in central\n",
      "\tfound io.grpc#grpc-context;1.33.1 in central\n",
      "\tfound io.grpc#grpc-alts;1.33.1 in central\n",
      "\tfound io.grpc#grpc-grpclb;1.33.1 in central\n",
      "\tfound io.grpc#grpc-protobuf;1.33.1 in central\n",
      "\tfound com.google.protobuf#protobuf-java;3.13.0 in central\n",
      "\tfound com.google.api.grpc#proto-google-common-protos;2.0.1 in central\n",
      "\tfound io.grpc#grpc-protobuf-lite;1.33.1 in central\n",
      "\tfound io.grpc#grpc-stub;1.33.1 in central\n",
      "\tfound org.apache.commons#commons-lang3;3.5 in central\n",
      "\tfound org.conscrypt#conscrypt-openjdk-uber;2.5.1 in central\n",
      "\tfound io.grpc#grpc-netty-shaded;1.33.1 in central\n",
      "\tfound io.grpc#grpc-core;1.33.1 in central\n",
      "\tfound com.google.api.grpc#proto-google-iam-v1;1.0.3 in central\n",
      "\tfound com.google.protobuf#protobuf-java-util;3.13.0 in central\n",
      "\tfound com.google.code.gson#gson;2.2.4 in central\n",
      "\tfound com.github.rholder#guava-retrying;2.0.0 in central\n",
      "\tfound org.codehaus.mojo#animal-sniffer-annotations;1.18 in central\n",
      "\tfound com.google.android#annotations;4.1.1.4 in central\n",
      "\tfound io.perfmark#perfmark-api;0.19.0 in central\n",
      ":: resolution report :: resolve 1913ms :: artifacts dl 85ms\n",
      "\t:: modules in use:\n",
      "\tcom.fasterxml.jackson.core#jackson-core;2.11.3 from central in [default]\n",
      "\tcom.github.rholder#guava-retrying;2.0.0 from central in [default]\n",
      "\tcom.google.android#annotations;4.1.1.4 from central in [default]\n",
      "\tcom.google.api-client#google-api-client;1.30.10 from central in [default]\n",
      "\tcom.google.api-client#google-api-client-jackson2;1.30.10 from central in [default]\n",
      "\tcom.google.api-client#google-api-client-java6;1.30.10 from central in [default]\n",
      "\tcom.google.api.grpc#proto-google-common-protos;2.0.1 from central in [default]\n",
      "\tcom.google.api.grpc#proto-google-iam-v1;1.0.3 from central in [default]\n",
      "\tcom.google.apis#google-api-services-iamcredentials;v1-rev20201022-1.30.10 from central in [default]\n",
      "\tcom.google.apis#google-api-services-storage;v1-rev20200927-1.30.10 from central in [default]\n",
      "\tcom.google.auth#google-auth-library-credentials;0.22.0 from central in [default]\n",
      "\tcom.google.auth#google-auth-library-oauth2-http;0.22.0 from central in [default]\n",
      "\tcom.google.auto.value#auto-value-annotations;1.7.4 from central in [default]\n",
      "\tcom.google.cloud.bigdataoss#gcs-connector;hadoop2-2.1.6 from central in [default]\n",
      "\tcom.google.cloud.bigdataoss#gcsio;2.1.6 from central in [default]\n",
      "\tcom.google.cloud.bigdataoss#util;2.1.6 from central in [default]\n",
      "\tcom.google.cloud.bigdataoss#util-hadoop;hadoop2-2.1.6 from central in [default]\n",
      "\tcom.google.cloud.spark#spark-bigquery-with-dependencies_2.12;0.15.1-beta from central in [default]\n",
      "\tcom.google.code.findbugs#jsr305;3.0.2 from central in [default]\n",
      "\tcom.google.code.gson#gson;2.2.4 from central in [default]\n",
      "\tcom.google.errorprone#error_prone_annotations;2.3.4 from central in [default]\n",
      "\tcom.google.flogger#flogger;0.5.1 from central in [default]\n",
      "\tcom.google.flogger#flogger-slf4j-backend;0.5.1 from central in [default]\n",
      "\tcom.google.flogger#flogger-system-backend;0.5.1 from central in [default]\n",
      "\tcom.google.flogger#google-extensions;0.5.1 from central in [default]\n",
      "\tcom.google.guava#failureaccess;1.0.1 from central in [default]\n",
      "\tcom.google.guava#guava;30.0-jre from central in [default]\n",
      "\tcom.google.guava#listenablefuture;9999.0-empty-to-avoid-conflict-with-guava from central in [default]\n",
      "\tcom.google.http-client#google-http-client;1.38.0 from central in [default]\n",
      "\tcom.google.http-client#google-http-client-jackson2;1.37.0 from central in [default]\n",
      "\tcom.google.j2objc#j2objc-annotations;1.3 from central in [default]\n",
      "\tcom.google.oauth-client#google-oauth-client;1.31.2 from central in [default]\n",
      "\tcom.google.oauth-client#google-oauth-client-java6;1.31.2 from central in [default]\n",
      "\tcom.google.protobuf#protobuf-java;3.13.0 from central in [default]\n",
      "\tcom.google.protobuf#protobuf-java-util;3.13.0 from central in [default]\n",
      "\tcommons-codec#commons-codec;1.15 from central in [default]\n",
      "\tcommons-logging#commons-logging;1.2 from central in [default]\n",
      "\tio.grpc#grpc-alts;1.33.1 from central in [default]\n",
      "\tio.grpc#grpc-api;1.33.1 from central in [default]\n",
      "\tio.grpc#grpc-auth;1.33.1 from central in [default]\n",
      "\tio.grpc#grpc-context;1.33.1 from central in [default]\n",
      "\tio.grpc#grpc-core;1.33.1 from central in [default]\n",
      "\tio.grpc#grpc-grpclb;1.33.1 from central in [default]\n",
      "\tio.grpc#grpc-netty-shaded;1.33.1 from central in [default]\n",
      "\tio.grpc#grpc-protobuf;1.33.1 from central in [default]\n",
      "\tio.grpc#grpc-protobuf-lite;1.33.1 from central in [default]\n",
      "\tio.grpc#grpc-stub;1.33.1 from central in [default]\n",
      "\tio.opencensus#opencensus-api;0.24.0 from central in [default]\n",
      "\tio.opencensus#opencensus-contrib-http-util;0.24.0 from central in [default]\n",
      "\tio.perfmark#perfmark-api;0.19.0 from central in [default]\n",
      "\torg.apache.commons#commons-lang3;3.5 from central in [default]\n",
      "\torg.apache.httpcomponents#httpclient;4.5.13 from central in [default]\n",
      "\torg.apache.httpcomponents#httpcore;4.4.13 from central in [default]\n",
      "\torg.checkerframework#checker-compat-qual;2.5.3 from central in [default]\n",
      "\torg.checkerframework#checker-qual;3.5.0 from central in [default]\n",
      "\torg.codehaus.mojo#animal-sniffer-annotations;1.18 from central in [default]\n",
      "\torg.conscrypt#conscrypt-openjdk-uber;2.5.1 from central in [default]\n",
      "\torg.slf4j#slf4j-api;1.7.14 from central in [default]\n",
      "\t:: evicted modules:\n",
      "\tio.grpc#grpc-context;1.22.1 by [io.grpc#grpc-context;1.33.1] in [default]\n",
      "\tcom.google.http-client#google-http-client-jackson2;1.36.0 by [com.google.http-client#google-http-client-jackson2;1.37.0] in [default]\n",
      "\tcom.fasterxml.jackson.core#jackson-core;2.11.1 by [com.fasterxml.jackson.core#jackson-core;2.11.3] in [default]\n",
      "\tcom.google.code.findbugs#jsr305;2.0.2 by [com.google.code.findbugs#jsr305;3.0.2] in [default]\n",
      "\t---------------------------------------------------------------------\n",
      "\t|                  |            modules            ||   artifacts   |\n",
      "\t|       conf       | number| search|dwnlded|evicted|| number|dwnlded|\n",
      "\t---------------------------------------------------------------------\n",
      "\t|      default     |   62  |   0   |   0   |   4   ||   58  |   0   |\n",
      "\t---------------------------------------------------------------------\n",
      ":: retrieving :: org.apache.spark#spark-submit-parent-b7766c05-0e42-46e4-b0f6-a753318460a0\n",
      "\tconfs: [default]\n",
      "\t0 artifacts copied, 58 already retrieved (0kB/26ms)\n"
     ]
    },
    {
     "name": "stdout",
     "output_type": "stream",
     "text": [
      "24/04/13 02:38:53 WARN NativeCodeLoader: Unable to load native-hadoop library for your platform... using builtin-java classes where applicable\n"
     ]
    },
    {
     "name": "stderr",
     "output_type": "stream",
     "text": [
      "Setting default log level to \"WARN\".\n",
      "To adjust logging level use sc.setLogLevel(newLevel). For SparkR, use setLogLevel(newLevel).\n"
     ]
    }
   ],
   "source": [
    "bucket_name = 'dezoomcamp2024_project'\n",
    "SPARK_SESSION = (\n",
    "    SparkSession.builder.appName(\"App\")\n",
    "    .config(\n",
    "        \"spark.jars.packages\",\n",
    "        \"com.google.cloud.spark:spark-bigquery-with-dependencies_2.12:0.15.1-beta,com.google.cloud.bigdataoss:gcs-connector:hadoop2-2.1.6\",\n",
    "    )\n",
    "    .config(\n",
    "        \"spark.jars\",\n",
    "        \"https://storage.googleapis.com/hadoop-lib/gcs/gcs-connector-hadoop3-latest.jar\",\n",
    "    )\n",
    "    .getOrCreate()\n",
    ")\n",
    "\n",
    "SPARK_SESSION._jsc.hadoopConfiguration().set(\n",
    "    \"fs.gs.impl\", \"com.google.cloud.hadoop.fs.gcs.GoogleHadoopFileSystem\"\n",
    ")\n",
    "SPARK_SESSION.conf.set(\"temporaryGcsBucket\", bucket_name)"
   ]
  },
  {
   "cell_type": "code",
   "execution_count": 3,
   "metadata": {},
   "outputs": [
    {
     "name": "stderr",
     "output_type": "stream",
     "text": [
      "                                                                                \r"
     ]
    }
   ],
   "source": [
    "# working with 2020 data only\n",
    "df_green = SPARK_SESSION.read.parquet(\"gs://dezoomcamp2024_project/processed/green/2020/*\")"
   ]
  },
  {
   "cell_type": "code",
   "execution_count": 4,
   "metadata": {},
   "outputs": [
    {
     "name": "stderr",
     "output_type": "stream",
     "text": [
      "                                                                                \r"
     ]
    },
    {
     "data": {
      "text/plain": [
       "1734051"
      ]
     },
     "execution_count": 4,
     "metadata": {},
     "output_type": "execute_result"
    }
   ],
   "source": [
    "df_green.count()"
   ]
  },
  {
   "cell_type": "code",
   "execution_count": 5,
   "metadata": {},
   "outputs": [
    {
     "name": "stdout",
     "output_type": "stream",
     "text": [
      "root\n",
      " |-- VendorID: integer (nullable = true)\n",
      " |-- lpep_pickup_datetime: timestamp (nullable = true)\n",
      " |-- lpep_dropoff_datetime: timestamp (nullable = true)\n",
      " |-- store_and_fwd_flag: string (nullable = true)\n",
      " |-- RatecodeID: integer (nullable = true)\n",
      " |-- PULocationID: integer (nullable = true)\n",
      " |-- DOLocationID: integer (nullable = true)\n",
      " |-- passenger_count: integer (nullable = true)\n",
      " |-- trip_distance: double (nullable = true)\n",
      " |-- fare_amount: double (nullable = true)\n",
      " |-- extra: double (nullable = true)\n",
      " |-- mta_tax: double (nullable = true)\n",
      " |-- tip_amount: double (nullable = true)\n",
      " |-- tolls_amount: double (nullable = true)\n",
      " |-- ehail_fee: double (nullable = true)\n",
      " |-- improvement_surcharge: double (nullable = true)\n",
      " |-- total_amount: double (nullable = true)\n",
      " |-- payment_type: integer (nullable = true)\n",
      " |-- trip_type: integer (nullable = true)\n",
      " |-- congestion_surcharge: double (nullable = true)\n",
      "\n"
     ]
    }
   ],
   "source": [
    "df_green.printSchema()"
   ]
  },
  {
   "cell_type": "code",
   "execution_count": 6,
   "metadata": {},
   "outputs": [],
   "source": [
    "SPARK_SESSION.stop()"
   ]
  },
  {
   "cell_type": "code",
   "execution_count": null,
   "metadata": {},
   "outputs": [],
   "source": []
  }
 ],
 "metadata": {
  "kernelspec": {
   "display_name": "Python 3 (ipykernel)",
   "language": "python",
   "name": "python3"
  }
 },
 "nbformat": 4,
 "nbformat_minor": 2
}
