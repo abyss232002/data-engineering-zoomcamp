{
 "cells": [
  {
   "cell_type": "code",
   "execution_count": 6,
   "metadata": {},
   "outputs": [],
   "source": [
    "import pyspark"
   ]
  },
  {
   "cell_type": "code",
   "execution_count": 7,
   "metadata": {},
   "outputs": [
    {
     "data": {
      "text/plain": [
       "'/home/abyssde232024/spark/spark-3.3.2-bin-hadoop3/python/pyspark/__init__.py'"
      ]
     },
     "execution_count": 7,
     "metadata": {},
     "output_type": "execute_result"
    }
   ],
   "source": [
    "pyspark.__file__"
   ]
  },
  {
   "cell_type": "code",
   "execution_count": 8,
   "metadata": {},
   "outputs": [],
   "source": [
    "from pyspark.sql import SparkSession"
   ]
  },
  {
   "cell_type": "code",
   "execution_count": 9,
   "metadata": {},
   "outputs": [
    {
     "name": "stdout",
     "output_type": "stream",
     "text": [
      "None\n"
     ]
    }
   ],
   "source": [
    "print(SparkSession.getActiveSession())"
   ]
  },
  {
   "cell_type": "code",
   "execution_count": 53,
   "metadata": {},
   "outputs": [],
   "source": [
    "spark_sql.stop()"
   ]
  },
  {
   "cell_type": "code",
   "execution_count": 10,
   "metadata": {},
   "outputs": [
    {
     "name": "stderr",
     "output_type": "stream",
     "text": [
      "Setting default log level to \"WARN\".\n",
      "To adjust logging level use sc.setLogLevel(newLevel). For SparkR, use setLogLevel(newLevel).\n"
     ]
    },
    {
     "name": "stdout",
     "output_type": "stream",
     "text": [
      "24/04/06 20:11:58 WARN NativeCodeLoader: Unable to load native-hadoop library for your platform... using builtin-java classes where applicable\n"
     ]
    }
   ],
   "source": [
    "spark_sql = SparkSession.builder \\\n",
    "    .master(\"local[*]\") \\\n",
    "    .appName('dezoomcamp2024') \\\n",
    "    .getOrCreate()"
   ]
  },
  {
   "cell_type": "code",
   "execution_count": 11,
   "metadata": {},
   "outputs": [
    {
     "name": "stderr",
     "output_type": "stream",
     "text": [
      "                                                                                \r"
     ]
    }
   ],
   "source": [
    "df_green = spark_sql.read.parquet('data/processed/green/*/*', header=True)"
   ]
  },
  {
   "cell_type": "code",
   "execution_count": 12,
   "metadata": {},
   "outputs": [
    {
     "name": "stderr",
     "output_type": "stream",
     "text": [
      "[Stage 1:>                                                          (0 + 1) / 1]\r"
     ]
    },
    {
     "name": "stdout",
     "output_type": "stream",
     "text": [
      "+--------+--------------------+---------------------+------------------+----------+------------+------------+---------------+-------------+-----------+-----+-------+----------+------------+---------+---------------------+------------+------------+---------+--------------------+\n",
      "|VendorID|lpep_pickup_datetime|lpep_dropoff_datetime|store_and_fwd_flag|RatecodeID|PULocationID|DOLocationID|passenger_count|trip_distance|fare_amount|extra|mta_tax|tip_amount|tolls_amount|ehail_fee|improvement_surcharge|total_amount|payment_type|trip_type|congestion_surcharge|\n",
      "+--------+--------------------+---------------------+------------------+----------+------------+------------+---------------+-------------+-----------+-----+-------+----------+------------+---------+---------------------+------------+------------+---------+--------------------+\n",
      "|       2| 2020-01-26 12:45:44|  2020-01-26 12:45:45|                 N|         5|          25|         264|              1|          .00|      40.05|    0|      0|      8.07|           0|     null|                  0.3|       48.42|           1|        2|                   0|\n",
      "|    null| 2020-01-17 15:59:00|  2020-01-17 16:44:00|              null|      null|          71|          55|           null|         8.87|      26.86| 2.75|    0.5|         0|           0|     null|                    0|       30.11|        null|     null|                null|\n",
      "|       2| 2020-01-17 17:56:45|  2020-01-17 18:19:27|                 N|         1|          41|         244|              1|         3.48|       16.5|    1|    0.5|      3.66|           0|     null|                  0.3|       21.96|           1|        1|                   0|\n",
      "|       2| 2020-01-20 20:39:15|  2020-01-20 20:42:44|                 N|         1|          43|         151|              1|          .88|          5|  0.5|    0.5|         1|           0|     null|                  0.3|         7.3|           1|        1|                   0|\n",
      "|       2| 2020-01-16 22:04:55|  2020-01-16 22:17:36|                 N|         1|           7|         129|              1|         1.91|         10|  0.5|    0.5|      2.26|           0|     null|                  0.3|       13.56|           1|        1|                   0|\n",
      "+--------+--------------------+---------------------+------------------+----------+------------+------------+---------------+-------------+-----------+-----+-------+----------+------------+---------+---------------------+------------+------------+---------+--------------------+\n",
      "only showing top 5 rows\n",
      "\n"
     ]
    },
    {
     "name": "stderr",
     "output_type": "stream",
     "text": [
      "                                                                                \r"
     ]
    }
   ],
   "source": [
    "df_green.show(5)"
   ]
  },
  {
   "cell_type": "code",
   "execution_count": 13,
   "metadata": {},
   "outputs": [],
   "source": [
    "df_green = df_green.withColumnRenamed('lpep_pickup_datetime', 'pickup_datetime') \\\n",
    "    .withColumnRenamed('lpep_dropoff_datetime', 'dropoff_datetime')"
   ]
  },
  {
   "cell_type": "code",
   "execution_count": 14,
   "metadata": {},
   "outputs": [
    {
     "name": "stdout",
     "output_type": "stream",
     "text": [
      "root\n",
      " |-- VendorID: string (nullable = true)\n",
      " |-- pickup_datetime: timestamp (nullable = true)\n",
      " |-- dropoff_datetime: timestamp (nullable = true)\n",
      " |-- store_and_fwd_flag: string (nullable = true)\n",
      " |-- RatecodeID: integer (nullable = true)\n",
      " |-- PULocationID: integer (nullable = true)\n",
      " |-- DOLocationID: integer (nullable = true)\n",
      " |-- passenger_count: integer (nullable = true)\n",
      " |-- trip_distance: string (nullable = true)\n",
      " |-- fare_amount: string (nullable = true)\n",
      " |-- extra: string (nullable = true)\n",
      " |-- mta_tax: string (nullable = true)\n",
      " |-- tip_amount: string (nullable = true)\n",
      " |-- tolls_amount: string (nullable = true)\n",
      " |-- ehail_fee: string (nullable = true)\n",
      " |-- improvement_surcharge: string (nullable = true)\n",
      " |-- total_amount: string (nullable = true)\n",
      " |-- payment_type: integer (nullable = true)\n",
      " |-- trip_type: integer (nullable = true)\n",
      " |-- congestion_surcharge: string (nullable = true)\n",
      "\n"
     ]
    }
   ],
   "source": [
    "df_green.printSchema()"
   ]
  },
  {
   "cell_type": "code",
   "execution_count": 15,
   "metadata": {},
   "outputs": [
    {
     "name": "stderr",
     "output_type": "stream",
     "text": [
      "/home/abyssde232024/spark/spark-3.3.2-bin-hadoop3/python/pyspark/sql/dataframe.py:229: FutureWarning: Deprecated in 2.0, use createOrReplaceTempView instead.\n",
      "  warnings.warn(\"Deprecated in 2.0, use createOrReplaceTempView instead.\", FutureWarning)\n"
     ]
    }
   ],
   "source": [
    "df_green.registerTempTable('green_taxi_trips')"
   ]
  },
  {
   "cell_type": "code",
   "execution_count": 16,
   "metadata": {},
   "outputs": [],
   "source": [
    "df_green_revenue = spark_sql.sql('''\n",
    "                        SELECT \n",
    "                              date_trunc(\"hour\", pickup_datetime) as hour, \n",
    "                              PULocationID,\n",
    "                              SUM(total_amount) as amount,\n",
    "                              COUNT(1) as record_number\n",
    "                        FROM green_taxi_trips\n",
    "                        where pickup_datetime >= \"2020-01-01 00:00:00\"\n",
    "                        GROUP BY 1, 2\n",
    "                        --ORDER BY 1, 2\n",
    "                        ''')"
   ]
  },
  {
   "cell_type": "code",
   "execution_count": 17,
   "metadata": {},
   "outputs": [
    {
     "name": "stderr",
     "output_type": "stream",
     "text": [
      "[Stage 2:============================================>              (3 + 1) / 4]\r"
     ]
    },
    {
     "name": "stdout",
     "output_type": "stream",
     "text": [
      "+-------------------+------------+------------------+-------------+\n",
      "|               hour|PULocationID|            amount|record_number|\n",
      "+-------------------+------------+------------------+-------------+\n",
      "|2020-01-22 19:00:00|          65| 657.0299999999999|           41|\n",
      "|2020-01-14 10:00:00|         243|141.92000000000002|            5|\n",
      "|2020-01-31 11:00:00|         220|168.07999999999998|            6|\n",
      "|2020-01-29 09:00:00|         116|            302.97|           19|\n",
      "|2020-01-19 10:00:00|         241|             90.49|            2|\n",
      "|2020-01-02 13:00:00|          74|1037.6299999999992|           71|\n",
      "|2020-01-20 07:00:00|          82|             72.36|            6|\n",
      "|2020-01-11 11:00:00|          83|             54.06|            5|\n",
      "|2020-01-11 18:00:00|          41|476.01000000000016|           45|\n",
      "|2020-01-06 21:00:00|         129|288.02000000000004|           14|\n",
      "|2020-01-27 14:00:00|          51|            153.13|            3|\n",
      "|2020-01-01 01:00:00|          17|            598.15|           18|\n",
      "|2020-01-20 00:00:00|          41| 295.0700000000001|           23|\n",
      "|2020-01-23 18:00:00|         227|             20.16|            1|\n",
      "|2020-01-23 14:00:00|         179|168.17000000000002|            8|\n",
      "|2020-01-27 13:00:00|         244| 854.8599999999997|           41|\n",
      "|2020-01-22 10:00:00|          74|1179.0599999999986|           83|\n",
      "|2020-01-16 20:00:00|          65| 501.2800000000001|           32|\n",
      "|2020-01-03 08:00:00|         223|             165.9|            9|\n",
      "|2020-01-27 15:00:00|         169|42.870000000000005|            3|\n",
      "+-------------------+------------+------------------+-------------+\n",
      "only showing top 20 rows\n",
      "\n"
     ]
    },
    {
     "name": "stderr",
     "output_type": "stream",
     "text": [
      "                                                                                \r"
     ]
    }
   ],
   "source": [
    "df_green_revenue.show()"
   ]
  },
  {
   "cell_type": "code",
   "execution_count": 18,
   "metadata": {},
   "outputs": [
    {
     "name": "stderr",
     "output_type": "stream",
     "text": [
      "                                                                                \r"
     ]
    }
   ],
   "source": [
    "df_green_revenue.repartition(20).write.parquet('data/report/revenue/green', mode='overwrite')"
   ]
  },
  {
   "cell_type": "code",
   "execution_count": 19,
   "metadata": {},
   "outputs": [],
   "source": [
    "df_yellow = spark_sql.read.parquet('data/processed/yellow/*/*', header=True)"
   ]
  },
  {
   "cell_type": "code",
   "execution_count": 20,
   "metadata": {},
   "outputs": [
    {
     "data": {
      "text/plain": [
       "['VendorID',\n",
       " 'tpep_pickup_datetime',\n",
       " 'tpep_dropoff_datetime',\n",
       " 'passenger_count',\n",
       " 'trip_distance',\n",
       " 'RatecodeID',\n",
       " 'store_and_fwd_flag',\n",
       " 'PULocationID',\n",
       " 'DOLocationID',\n",
       " 'payment_type',\n",
       " 'fare_amount',\n",
       " 'extra',\n",
       " 'mta_tax',\n",
       " 'tip_amount',\n",
       " 'tolls_amount',\n",
       " 'improvement_surcharge',\n",
       " 'total_amount',\n",
       " 'congestion_surcharge']"
      ]
     },
     "execution_count": 20,
     "metadata": {},
     "output_type": "execute_result"
    }
   ],
   "source": [
    "df_yellow.columns"
   ]
  },
  {
   "cell_type": "code",
   "execution_count": 21,
   "metadata": {},
   "outputs": [],
   "source": [
    "df_yellow = df_yellow.withColumnRenamed('tpep_pickup_datetime', 'pickup_datetime') \\\n",
    "    .withColumnRenamed('tpep_dropoff_datetime', 'dropoff_datetime')"
   ]
  },
  {
   "cell_type": "code",
   "execution_count": 22,
   "metadata": {},
   "outputs": [],
   "source": [
    "df_yellow.registerTempTable('yellow_taxi_trips')"
   ]
  },
  {
   "cell_type": "code",
   "execution_count": 23,
   "metadata": {},
   "outputs": [],
   "source": [
    "df_yellow_revenue = spark_sql.sql('''\n",
    "                        SELECT \n",
    "                              date_trunc(\"hour\", pickup_datetime) as hour, \n",
    "                              PULocationID,\n",
    "                              SUM(total_amount) as amount,\n",
    "                              COUNT(1) as record_number\n",
    "                        FROM yellow_taxi_trips\n",
    "                        where pickup_datetime >= \"2020-01-01 00:00:00\"\n",
    "                        GROUP BY 1, 2\n",
    "                        --ORDER BY 1, 2\n",
    "                        ''')"
   ]
  },
  {
   "cell_type": "code",
   "execution_count": 24,
   "metadata": {},
   "outputs": [
    {
     "name": "stderr",
     "output_type": "stream",
     "text": [
      "                                                                                \r"
     ]
    }
   ],
   "source": [
    "df_yellow_revenue.repartition(20).write.parquet('data/report/revenue/yellow', mode='overwrite')"
   ]
  },
  {
   "cell_type": "code",
   "execution_count": 25,
   "metadata": {},
   "outputs": [
    {
     "name": "stderr",
     "output_type": "stream",
     "text": [
      "[Stage 18:==============================================>         (10 + 2) / 12]\r"
     ]
    },
    {
     "name": "stdout",
     "output_type": "stream",
     "text": [
      "+-------------------+------------+------------------+-------------+\n",
      "|               hour|PULocationID|            amount|record_number|\n",
      "+-------------------+------------+------------------+-------------+\n",
      "|2020-01-10 06:00:00|         144|            149.51|            9|\n",
      "|2020-01-29 03:00:00|          13|            248.89|            6|\n",
      "|2020-01-13 21:00:00|         255|            108.98|            8|\n",
      "|2020-01-04 12:00:00|         249| 2245.569999999999|          152|\n",
      "|2020-01-02 15:00:00|         236| 7382.910000000018|          504|\n",
      "|2020-01-31 21:00:00|          50|1784.4399999999994|          104|\n",
      "|2020-01-07 12:00:00|          68| 3046.229999999997|          181|\n",
      "|2020-01-02 09:00:00|         161|4299.9299999999985|          242|\n",
      "|2020-01-23 17:00:00|         233| 4642.769999999999|          235|\n",
      "|2020-01-06 22:00:00|         158| 923.2100000000003|           57|\n",
      "|2020-01-15 07:00:00|          13|2432.6299999999997|          118|\n",
      "|2020-01-23 19:00:00|         224|            327.28|           16|\n",
      "|2020-01-18 00:00:00|         144|2951.2999999999984|          174|\n",
      "|2020-01-17 19:00:00|         170| 9634.390000000025|          555|\n",
      "|2020-01-06 08:00:00|          43| 2765.499999999998|          169|\n",
      "|2020-01-23 22:00:00|         162| 9752.940000000017|          553|\n",
      "|2020-01-25 21:00:00|         230| 5935.560000000009|          388|\n",
      "|2020-01-04 02:00:00|          79| 6893.030000000011|          426|\n",
      "|2020-01-01 01:00:00|         107| 9994.480000000025|          583|\n",
      "|2020-01-21 18:00:00|         162| 14090.39000000004|          816|\n",
      "+-------------------+------------+------------------+-------------+\n",
      "only showing top 20 rows\n",
      "\n"
     ]
    },
    {
     "name": "stderr",
     "output_type": "stream",
     "text": [
      "                                                                                \r"
     ]
    }
   ],
   "source": [
    "df_yellow_revenue.show()"
   ]
  },
  {
   "cell_type": "code",
   "execution_count": 26,
   "metadata": {},
   "outputs": [],
   "source": [
    "df_green_revenue_temp = df_green_revenue.withColumnRenamed('amount', 'amount_green') \\\n",
    "                                        .withColumnRenamed('record_number', 'record_number_green')\n",
    "df_yellow_revenue_temp = df_yellow_revenue.withColumnRenamed('amount', 'amount_yellow') \\\n",
    "                                        .withColumnRenamed('record_number', 'record_number_yellow')"
   ]
  },
  {
   "cell_type": "code",
   "execution_count": 27,
   "metadata": {},
   "outputs": [],
   "source": [
    "df_join = df_green_revenue_temp.join(df_yellow_revenue_temp, on=['hour', 'PULocationID'], how='outer').withColumnRenamed('PULocationID', 'zone')"
   ]
  },
  {
   "cell_type": "code",
   "execution_count": 28,
   "metadata": {},
   "outputs": [
    {
     "name": "stderr",
     "output_type": "stream",
     "text": [
      "[Stage 25:>                                                         (0 + 1) / 1]\r"
     ]
    },
    {
     "name": "stdout",
     "output_type": "stream",
     "text": [
      "+-------------------+----+------------------+-------------------+------------------+--------------------+\n",
      "|               hour|zone|      amount_green|record_number_green|     amount_yellow|record_number_yellow|\n",
      "+-------------------+----+------------------+-------------------+------------------+--------------------+\n",
      "|2020-01-01 00:00:00|   3|              null|               null|              25.0|                   1|\n",
      "|2020-01-01 00:00:00|   4|              null|               null|1004.3000000000002|                  57|\n",
      "|2020-01-01 00:00:00|   7| 769.7299999999996|                 45| 455.1700000000001|                  38|\n",
      "|2020-01-01 00:00:00|  12|              null|               null|             107.0|                   6|\n",
      "|2020-01-01 00:00:00|  37|175.66999999999996|                  6|161.60999999999999|                   7|\n",
      "|2020-01-01 00:00:00|  40|            168.98|                  8|             89.97|                   5|\n",
      "|2020-01-01 00:00:00|  45|              null|               null| 732.4800000000002|                  42|\n",
      "|2020-01-01 00:00:00|  47|              13.3|                  1|               8.3|                   1|\n",
      "|2020-01-01 00:00:00|  51|              17.8|                  2|              31.0|                   1|\n",
      "|2020-01-01 00:00:00|  62|             15.95|                  1|             61.43|                   1|\n",
      "|2020-01-01 00:00:00|  68|              null|               null| 7825.070000000012|                 396|\n",
      "|2020-01-01 00:00:00|  73|              null|               null|              17.3|                   1|\n",
      "|2020-01-01 00:00:00|  74|317.09000000000015|                 24| 586.2100000000002|                  47|\n",
      "|2020-01-01 00:00:00|  77| 75.99000000000001|                  2|            134.24|                   3|\n",
      "|2020-01-01 00:00:00|  80|364.32000000000005|                 13|             371.4|                  20|\n",
      "|2020-01-01 00:00:00|  83| 94.09999999999998|                  7|               9.8|                   1|\n",
      "|2020-01-01 00:00:00|  88|              null|               null| 823.8000000000002|                  36|\n",
      "|2020-01-01 00:00:00|  89|              11.3|                  1|             48.16|                   2|\n",
      "|2020-01-01 00:00:00|  94|             64.24|                  3|              13.3|                   1|\n",
      "|2020-01-01 00:00:00|  95|202.20000000000005|                 15|               6.3|                   1|\n",
      "+-------------------+----+------------------+-------------------+------------------+--------------------+\n",
      "only showing top 20 rows\n",
      "\n"
     ]
    },
    {
     "name": "stderr",
     "output_type": "stream",
     "text": [
      "                                                                                \r"
     ]
    }
   ],
   "source": [
    "df_join.show()"
   ]
  },
  {
   "cell_type": "code",
   "execution_count": 29,
   "metadata": {},
   "outputs": [
    {
     "name": "stderr",
     "output_type": "stream",
     "text": [
      "                                                                                \r"
     ]
    }
   ],
   "source": [
    "df_join.write.parquet('data/report/revenue/total', mode='overwrite')"
   ]
  },
  {
   "cell_type": "code",
   "execution_count": 35,
   "metadata": {},
   "outputs": [],
   "source": [
    "from pyspark.sql.types import StructType, StructField, StringType, TimestampType, LongType, DoubleType, IntegerType"
   ]
  },
  {
   "cell_type": "code",
   "execution_count": 39,
   "metadata": {},
   "outputs": [],
   "source": [
    "lookup_schema = StructType([\n",
    "    StructField(\"LocationID\", IntegerType(), nullable=True),\n",
    "    StructField(\"Borough\", StringType(), nullable=True),\n",
    "    StructField(\"Zone\", StringType(), nullable=True),\n",
    "    StructField(\"service_zone\", StringType(), nullable=True)\n",
    "])"
   ]
  },
  {
   "cell_type": "code",
   "execution_count": 40,
   "metadata": {},
   "outputs": [],
   "source": [
    "df_lookup = spark_sql.read \\\n",
    "            .option(\"header\", \"true\") \\\n",
    "            .schema(lookup_schema) \\\n",
    "            .csv('taxi_zone_lookup.csv')"
   ]
  },
  {
   "cell_type": "code",
   "execution_count": 41,
   "metadata": {},
   "outputs": [],
   "source": [
    "df_lookup.write.parquet('data/lookup', mode='overwrite')"
   ]
  },
  {
   "cell_type": "code",
   "execution_count": 46,
   "metadata": {},
   "outputs": [],
   "source": [
    "df_lookup = spark_sql.read.parquet('data/lookup', header=True).withColumnRenamed('Zone', 'Zone_name').withColumnRenamed('LocationID', 'zone')\n",
    "            "
   ]
  },
  {
   "cell_type": "code",
   "execution_count": 47,
   "metadata": {},
   "outputs": [
    {
     "name": "stdout",
     "output_type": "stream",
     "text": [
      "+----+-------------+--------------------+------------+\n",
      "|zone|      Borough|           Zone_name|service_zone|\n",
      "+----+-------------+--------------------+------------+\n",
      "|   1|          EWR|      Newark Airport|         EWR|\n",
      "|   2|       Queens|         Jamaica Bay|   Boro Zone|\n",
      "|   3|        Bronx|Allerton/Pelham G...|   Boro Zone|\n",
      "|   4|    Manhattan|       Alphabet City| Yellow Zone|\n",
      "|   5|Staten Island|       Arden Heights|   Boro Zone|\n",
      "|   6|Staten Island|Arrochar/Fort Wad...|   Boro Zone|\n",
      "|   7|       Queens|             Astoria|   Boro Zone|\n",
      "|   8|       Queens|        Astoria Park|   Boro Zone|\n",
      "|   9|       Queens|          Auburndale|   Boro Zone|\n",
      "|  10|       Queens|        Baisley Park|   Boro Zone|\n",
      "|  11|     Brooklyn|          Bath Beach|   Boro Zone|\n",
      "|  12|    Manhattan|        Battery Park| Yellow Zone|\n",
      "|  13|    Manhattan|   Battery Park City| Yellow Zone|\n",
      "|  14|     Brooklyn|           Bay Ridge|   Boro Zone|\n",
      "|  15|       Queens|Bay Terrace/Fort ...|   Boro Zone|\n",
      "|  16|       Queens|             Bayside|   Boro Zone|\n",
      "|  17|     Brooklyn|             Bedford|   Boro Zone|\n",
      "|  18|        Bronx|        Bedford Park|   Boro Zone|\n",
      "|  19|       Queens|           Bellerose|   Boro Zone|\n",
      "|  20|        Bronx|             Belmont|   Boro Zone|\n",
      "+----+-------------+--------------------+------------+\n",
      "only showing top 20 rows\n",
      "\n"
     ]
    }
   ],
   "source": [
    "df_lookup.show()"
   ]
  },
  {
   "cell_type": "code",
   "execution_count": 48,
   "metadata": {},
   "outputs": [],
   "source": [
    "df_join = df_join.join(df_lookup, on='zone', how='left')"
   ]
  },
  {
   "cell_type": "code",
   "execution_count": 49,
   "metadata": {},
   "outputs": [
    {
     "name": "stderr",
     "output_type": "stream",
     "text": [
      "[Stage 46:>                                                         (0 + 1) / 1]\r"
     ]
    },
    {
     "name": "stdout",
     "output_type": "stream",
     "text": [
      "+----+-------------------+------------------+-------------------+------------------+--------------------+---------+--------------------+------------+\n",
      "|zone|               hour|      amount_green|record_number_green|     amount_yellow|record_number_yellow|  Borough|           Zone_name|service_zone|\n",
      "+----+-------------------+------------------+-------------------+------------------+--------------------+---------+--------------------+------------+\n",
      "|   3|2020-01-01 00:00:00|              null|               null|              25.0|                   1|    Bronx|Allerton/Pelham G...|   Boro Zone|\n",
      "|   4|2020-01-01 00:00:00|              null|               null|1004.3000000000002|                  57|Manhattan|       Alphabet City| Yellow Zone|\n",
      "|   7|2020-01-01 00:00:00| 769.7299999999996|                 45| 455.1700000000001|                  38|   Queens|             Astoria|   Boro Zone|\n",
      "|  12|2020-01-01 00:00:00|              null|               null|             107.0|                   6|Manhattan|        Battery Park| Yellow Zone|\n",
      "|  37|2020-01-01 00:00:00|175.66999999999996|                  6|161.60999999999999|                   7| Brooklyn|      Bushwick South|   Boro Zone|\n",
      "|  40|2020-01-01 00:00:00|            168.98|                  8|             89.97|                   5| Brooklyn|     Carroll Gardens|   Boro Zone|\n",
      "|  45|2020-01-01 00:00:00|              null|               null| 732.4800000000002|                  42|Manhattan|           Chinatown| Yellow Zone|\n",
      "|  47|2020-01-01 00:00:00|              13.3|                  1|               8.3|                   1|    Bronx|  Claremont/Bathgate|   Boro Zone|\n",
      "|  51|2020-01-01 00:00:00|              17.8|                  2|              31.0|                   1|    Bronx|          Co-Op City|   Boro Zone|\n",
      "|  62|2020-01-01 00:00:00|             15.95|                  1|             61.43|                   1| Brooklyn| Crown Heights South|   Boro Zone|\n",
      "|  68|2020-01-01 00:00:00|              null|               null| 7825.070000000012|                 396|Manhattan|        East Chelsea| Yellow Zone|\n",
      "|  73|2020-01-01 00:00:00|              null|               null|              17.3|                   1|   Queens|       East Flushing|   Boro Zone|\n",
      "|  74|2020-01-01 00:00:00|317.09000000000015|                 24| 586.2100000000002|                  47|Manhattan|   East Harlem North|   Boro Zone|\n",
      "|  77|2020-01-01 00:00:00| 75.99000000000001|                  2|            134.24|                   3| Brooklyn|East New York/Pen...|   Boro Zone|\n",
      "|  80|2020-01-01 00:00:00|364.32000000000005|                 13|             371.4|                  20| Brooklyn|   East Williamsburg|   Boro Zone|\n",
      "|  83|2020-01-01 00:00:00| 94.09999999999998|                  7|               9.8|                   1|   Queens|    Elmhurst/Maspeth|   Boro Zone|\n",
      "|  88|2020-01-01 00:00:00|              null|               null| 823.8000000000002|                  36|Manhattan|Financial Distric...| Yellow Zone|\n",
      "|  89|2020-01-01 00:00:00|              11.3|                  1|             48.16|                   2| Brooklyn|Flatbush/Ditmas Park|   Boro Zone|\n",
      "|  94|2020-01-01 00:00:00|             64.24|                  3|              13.3|                   1|    Bronx|       Fordham South|   Boro Zone|\n",
      "|  95|2020-01-01 00:00:00|202.20000000000005|                 15|               6.3|                   1|   Queens|        Forest Hills|   Boro Zone|\n",
      "+----+-------------------+------------------+-------------------+------------------+--------------------+---------+--------------------+------------+\n",
      "only showing top 20 rows\n",
      "\n"
     ]
    },
    {
     "name": "stderr",
     "output_type": "stream",
     "text": [
      "                                                                                \r"
     ]
    }
   ],
   "source": [
    "df_join.show()"
   ]
  },
  {
   "cell_type": "code",
   "execution_count": 52,
   "metadata": {},
   "outputs": [
    {
     "name": "stderr",
     "output_type": "stream",
     "text": [
      "                                                                                \r"
     ]
    }
   ],
   "source": [
    "df_join.repartition(20).write.parquet('data/report/revenue/total_with_lookup', mode='overwrite')"
   ]
  },
  {
   "cell_type": "code",
   "execution_count": null,
   "metadata": {},
   "outputs": [],
   "source": []
  }
 ],
 "metadata": {
  "kernelspec": {
   "display_name": "Python 3 (ipykernel)",
   "language": "python",
   "name": "python3"
  },
  "language_info": {
   "codemirror_mode": {
    "name": "ipython",
    "version": 3
   },
   "file_extension": ".py",
   "mimetype": "text/x-python",
   "name": "python",
   "nbconvert_exporter": "python",
   "pygments_lexer": "ipython3",
   "version": "3.8.10"
  }
 },
 "nbformat": 4,
 "nbformat_minor": 2
}
