{
 "cells": [
  {
   "cell_type": "code",
   "execution_count": 4,
   "metadata": {},
   "outputs": [],
   "source": [
    "import pyspark"
   ]
  },
  {
   "cell_type": "markdown",
   "metadata": {},
   "source": [
    "This notebook is to read local csv and write i in partitioned parquet format locally"
   ]
  },
  {
   "cell_type": "code",
   "execution_count": 5,
   "metadata": {},
   "outputs": [
    {
     "data": {
      "text/plain": [
       "'/home/abyssde232024/spark/spark-3.3.2-bin-hadoop3/python/pyspark/__init__.py'"
      ]
     },
     "execution_count": 5,
     "metadata": {},
     "output_type": "execute_result"
    }
   ],
   "source": [
    "pyspark.__file__"
   ]
  },
  {
   "cell_type": "code",
   "execution_count": 6,
   "metadata": {},
   "outputs": [],
   "source": [
    "from pyspark.sql import SparkSession"
   ]
  },
  {
   "cell_type": "code",
   "execution_count": 7,
   "metadata": {},
   "outputs": [
    {
     "name": "stdout",
     "output_type": "stream",
     "text": [
      "None\n"
     ]
    }
   ],
   "source": [
    "print(SparkSession.getActiveSession())"
   ]
  },
  {
   "cell_type": "code",
   "execution_count": 8,
   "metadata": {},
   "outputs": [
    {
     "name": "stderr",
     "output_type": "stream",
     "text": [
      "Setting default log level to \"WARN\".\n",
      "To adjust logging level use sc.setLogLevel(newLevel). For SparkR, use setLogLevel(newLevel).\n"
     ]
    },
    {
     "name": "stdout",
     "output_type": "stream",
     "text": [
      "24/04/02 03:37:49 WARN NativeCodeLoader: Unable to load native-hadoop library for your platform... using builtin-java classes where applicable\n",
      "24/04/02 03:37:50 WARN Utils: Service 'SparkUI' could not bind on port 4040. Attempting port 4041.\n",
      "24/04/02 03:37:50 WARN Utils: Service 'SparkUI' could not bind on port 4041. Attempting port 4042.\n"
     ]
    }
   ],
   "source": [
    "spark_vs = SparkSession.builder \\\n",
    "    .master(\"local[*]\") \\\n",
    "    .appName('dezoomcamp2024') \\\n",
    "    .getOrCreate()"
   ]
  },
  {
   "cell_type": "code",
   "execution_count": 19,
   "metadata": {},
   "outputs": [],
   "source": [
    "df_green = spark_vs.read \\\n",
    "    .option(\"header\", \"true\") \\\n",
    "    .csv('data/raw/green/2021/01')"
   ]
  },
  {
   "cell_type": "code",
   "execution_count": 16,
   "metadata": {},
   "outputs": [
    {
     "name": "stdout",
     "output_type": "stream",
     "text": [
      "root\n",
      " |-- VendorID: string (nullable = true)\n",
      " |-- lpep_pickup_datetime: string (nullable = true)\n",
      " |-- lpep_dropoff_datetime: string (nullable = true)\n",
      " |-- store_and_fwd_flag: string (nullable = true)\n",
      " |-- RatecodeID: string (nullable = true)\n",
      " |-- PULocationID: string (nullable = true)\n",
      " |-- DOLocationID: string (nullable = true)\n",
      " |-- passenger_count: string (nullable = true)\n",
      " |-- trip_distance: string (nullable = true)\n",
      " |-- fare_amount: string (nullable = true)\n",
      " |-- extra: string (nullable = true)\n",
      " |-- mta_tax: string (nullable = true)\n",
      " |-- tip_amount: string (nullable = true)\n",
      " |-- tolls_amount: string (nullable = true)\n",
      " |-- ehail_fee: string (nullable = true)\n",
      " |-- improvement_surcharge: string (nullable = true)\n",
      " |-- total_amount: string (nullable = true)\n",
      " |-- payment_type: string (nullable = true)\n",
      " |-- trip_type: string (nullable = true)\n",
      " |-- congestion_surcharge: string (nullable = true)\n",
      "\n"
     ]
    }
   ],
   "source": [
    "df_green.printSchema()"
   ]
  },
  {
   "cell_type": "code",
   "execution_count": 34,
   "metadata": {},
   "outputs": [],
   "source": [
    "from pyspark.sql.types import StructType, StructField, StringType, TimestampType, LongType, DoubleType, IntegerType"
   ]
  },
  {
   "cell_type": "code",
   "execution_count": 36,
   "metadata": {},
   "outputs": [],
   "source": [
    "\n",
    "green_schema = StructType([\n",
    "    StructField(\"VendorID\", IntegerType(), nullable=True),\n",
    "    StructField(\"lpep_pickup_datetime\", TimestampType(), nullable=True),\n",
    "    StructField(\"lpep_dropoff_datetime\", TimestampType(), nullable=True),\n",
    "    StructField(\"store_and_fwd_flag\", StringType(), nullable=True),\n",
    "    StructField(\"RatecodeID\", IntegerType(), nullable=True),\n",
    "    StructField(\"PULocationID\", IntegerType(), nullable=True),\n",
    "    StructField(\"DOLocationID\", IntegerType(), nullable=True),\n",
    "    StructField(\"passenger_count\", IntegerType(), nullable=True),\n",
    "    StructField(\"trip_distance\", StringType(), nullable=True),\n",
    "    StructField(\"fare_amount\", StringType(), nullable=True),\n",
    "    StructField(\"extra\", StringType(), nullable=True),\n",
    "    StructField(\"mta_tax\", StringType(), nullable=True),\n",
    "    StructField(\"tip_amount\", StringType(), nullable=True),\n",
    "    StructField(\"tolls_amount\", StringType(), nullable=True),\n",
    "    StructField(\"ehail_fee\", StringType(), nullable=True),\n",
    "    StructField(\"improvement_surcharge\", StringType(), nullable=True),\n",
    "    StructField(\"total_amount\", StringType(), nullable=True),\n",
    "    StructField(\"payment_type\", IntegerType(), nullable=True),\n",
    "    StructField(\"trip_type\", IntegerType(), nullable=True),\n",
    "    StructField(\"congestion_surcharge\", StringType(), nullable=True)\n",
    "])\n"
   ]
  },
  {
   "cell_type": "code",
   "execution_count": 20,
   "metadata": {},
   "outputs": [],
   "source": [
    "import pandas as pd"
   ]
  },
  {
   "cell_type": "code",
   "execution_count": 26,
   "metadata": {},
   "outputs": [],
   "source": [
    "df_green_pd = pd.read_csv('data/raw/green/2021/01/green_tripdata_2021-01.csv.gz', nrows=1000)"
   ]
  },
  {
   "cell_type": "code",
   "execution_count": 32,
   "metadata": {},
   "outputs": [
    {
     "data": {
      "text/plain": [
       "VendorID                   int64\n",
       "lpep_pickup_datetime      object\n",
       "lpep_dropoff_datetime     object\n",
       "store_and_fwd_flag        object\n",
       "RatecodeID                 int64\n",
       "PULocationID               int64\n",
       "DOLocationID               int64\n",
       "passenger_count            int64\n",
       "trip_distance            float64\n",
       "fare_amount              float64\n",
       "extra                    float64\n",
       "mta_tax                  float64\n",
       "tip_amount               float64\n",
       "tolls_amount             float64\n",
       "ehail_fee                float64\n",
       "improvement_surcharge    float64\n",
       "total_amount             float64\n",
       "payment_type               int64\n",
       "trip_type                  int64\n",
       "congestion_surcharge     float64\n",
       "dtype: object"
      ]
     },
     "execution_count": 32,
     "metadata": {},
     "output_type": "execute_result"
    }
   ],
   "source": [
    "df_green_pd.dtypes"
   ]
  },
  {
   "cell_type": "code",
   "execution_count": 29,
   "metadata": {},
   "outputs": [
    {
     "name": "stderr",
     "output_type": "stream",
     "text": [
      "/home/abyssde232024/spark/spark-3.3.2-bin-hadoop3/python/pyspark/sql/pandas/conversion.py:474: FutureWarning: iteritems is deprecated and will be removed in a future version. Use .items instead.\n",
      "  for column, series in pdf.iteritems():\n"
     ]
    },
    {
     "name": "stdout",
     "output_type": "stream",
     "text": [
      "root\n",
      " |-- VendorID: long (nullable = true)\n",
      " |-- lpep_pickup_datetime: string (nullable = true)\n",
      " |-- lpep_dropoff_datetime: string (nullable = true)\n",
      " |-- store_and_fwd_flag: string (nullable = true)\n",
      " |-- RatecodeID: long (nullable = true)\n",
      " |-- PULocationID: long (nullable = true)\n",
      " |-- DOLocationID: long (nullable = true)\n",
      " |-- passenger_count: long (nullable = true)\n",
      " |-- trip_distance: double (nullable = true)\n",
      " |-- fare_amount: double (nullable = true)\n",
      " |-- extra: double (nullable = true)\n",
      " |-- mta_tax: double (nullable = true)\n",
      " |-- tip_amount: double (nullable = true)\n",
      " |-- tolls_amount: double (nullable = true)\n",
      " |-- ehail_fee: double (nullable = true)\n",
      " |-- improvement_surcharge: double (nullable = true)\n",
      " |-- total_amount: double (nullable = true)\n",
      " |-- payment_type: long (nullable = true)\n",
      " |-- trip_type: long (nullable = true)\n",
      " |-- congestion_surcharge: double (nullable = true)\n",
      "\n"
     ]
    }
   ],
   "source": [
    "spark_vs.createDataFrame(df_green_pd).printSchema()"
   ]
  },
  {
   "cell_type": "code",
   "execution_count": 37,
   "metadata": {},
   "outputs": [],
   "source": [
    "df_green = spark_vs.read \\\n",
    "    .option(\"header\", \"true\") \\\n",
    "    .schema(green_schema) \\\n",
    "    .csv('data/raw/green/2021/01')"
   ]
  },
  {
   "cell_type": "code",
   "execution_count": 38,
   "metadata": {},
   "outputs": [
    {
     "name": "stdout",
     "output_type": "stream",
     "text": [
      "root\n",
      " |-- VendorID: string (nullable = true)\n",
      " |-- lpep_pickup_datetime: timestamp (nullable = true)\n",
      " |-- lpep_dropoff_datetime: timestamp (nullable = true)\n",
      " |-- store_and_fwd_flag: string (nullable = true)\n",
      " |-- RatecodeID: integer (nullable = true)\n",
      " |-- PULocationID: integer (nullable = true)\n",
      " |-- DOLocationID: integer (nullable = true)\n",
      " |-- passenger_count: integer (nullable = true)\n",
      " |-- trip_distance: string (nullable = true)\n",
      " |-- fare_amount: string (nullable = true)\n",
      " |-- extra: string (nullable = true)\n",
      " |-- mta_tax: string (nullable = true)\n",
      " |-- tip_amount: string (nullable = true)\n",
      " |-- tolls_amount: string (nullable = true)\n",
      " |-- ehail_fee: string (nullable = true)\n",
      " |-- improvement_surcharge: string (nullable = true)\n",
      " |-- total_amount: string (nullable = true)\n",
      " |-- payment_type: integer (nullable = true)\n",
      " |-- trip_type: integer (nullable = true)\n",
      " |-- congestion_surcharge: string (nullable = true)\n",
      "\n"
     ]
    }
   ],
   "source": [
    "df_green.printSchema()"
   ]
  },
  {
   "cell_type": "code",
   "execution_count": 39,
   "metadata": {},
   "outputs": [
    {
     "data": {
      "text/plain": [
       "[Row(VendorID='2', lpep_pickup_datetime=datetime.datetime(2021, 1, 1, 0, 15, 56), lpep_dropoff_datetime=datetime.datetime(2021, 1, 1, 0, 19, 52), store_and_fwd_flag='N', RatecodeID=1, PULocationID=43, DOLocationID=151, passenger_count=1, trip_distance='1.01', fare_amount='5.5', extra='0.5', mta_tax='0.5', tip_amount='0', tolls_amount='0', ehail_fee=None, improvement_surcharge='0.3', total_amount='6.8', payment_type=2, trip_type=1, congestion_surcharge='0'),\n",
       " Row(VendorID='2', lpep_pickup_datetime=datetime.datetime(2021, 1, 1, 0, 25, 59), lpep_dropoff_datetime=datetime.datetime(2021, 1, 1, 0, 34, 44), store_and_fwd_flag='N', RatecodeID=1, PULocationID=166, DOLocationID=239, passenger_count=1, trip_distance='2.53', fare_amount='10', extra='0.5', mta_tax='0.5', tip_amount='2.81', tolls_amount='0', ehail_fee=None, improvement_surcharge='0.3', total_amount='16.86', payment_type=1, trip_type=1, congestion_surcharge='2.75'),\n",
       " Row(VendorID='2', lpep_pickup_datetime=datetime.datetime(2021, 1, 1, 0, 45, 57), lpep_dropoff_datetime=datetime.datetime(2021, 1, 1, 0, 51, 55), store_and_fwd_flag='N', RatecodeID=1, PULocationID=41, DOLocationID=42, passenger_count=1, trip_distance='1.12', fare_amount='6', extra='0.5', mta_tax='0.5', tip_amount='1', tolls_amount='0', ehail_fee=None, improvement_surcharge='0.3', total_amount='8.3', payment_type=1, trip_type=1, congestion_surcharge='0'),\n",
       " Row(VendorID='2', lpep_pickup_datetime=datetime.datetime(2020, 12, 31, 23, 57, 51), lpep_dropoff_datetime=datetime.datetime(2021, 1, 1, 0, 4, 56), store_and_fwd_flag='N', RatecodeID=1, PULocationID=168, DOLocationID=75, passenger_count=1, trip_distance='1.99', fare_amount='8', extra='0.5', mta_tax='0.5', tip_amount='0', tolls_amount='0', ehail_fee=None, improvement_surcharge='0.3', total_amount='9.3', payment_type=2, trip_type=1, congestion_surcharge='0'),\n",
       " Row(VendorID='2', lpep_pickup_datetime=datetime.datetime(2021, 1, 1, 0, 16, 36), lpep_dropoff_datetime=datetime.datetime(2021, 1, 1, 0, 16, 40), store_and_fwd_flag='N', RatecodeID=2, PULocationID=265, DOLocationID=265, passenger_count=3, trip_distance='.00', fare_amount='-52', extra='0', mta_tax='-0.5', tip_amount='0', tolls_amount='0', ehail_fee=None, improvement_surcharge='-0.3', total_amount='-52.8', payment_type=3, trip_type=1, congestion_surcharge='0')]"
      ]
     },
     "execution_count": 39,
     "metadata": {},
     "output_type": "execute_result"
    }
   ],
   "source": [
    "df_green.head(5)"
   ]
  },
  {
   "cell_type": "code",
   "execution_count": 41,
   "metadata": {},
   "outputs": [],
   "source": [
    "df_yellow_pd = pd.read_csv('data/raw/yellow/2021/01/yellow_tripdata_2021-01.csv.gz', nrows=1000)"
   ]
  },
  {
   "cell_type": "code",
   "execution_count": 42,
   "metadata": {},
   "outputs": [
    {
     "name": "stdout",
     "output_type": "stream",
     "text": [
      "root\n",
      " |-- VendorID: long (nullable = true)\n",
      " |-- tpep_pickup_datetime: string (nullable = true)\n",
      " |-- tpep_dropoff_datetime: string (nullable = true)\n",
      " |-- passenger_count: long (nullable = true)\n",
      " |-- trip_distance: double (nullable = true)\n",
      " |-- RatecodeID: long (nullable = true)\n",
      " |-- store_and_fwd_flag: string (nullable = true)\n",
      " |-- PULocationID: long (nullable = true)\n",
      " |-- DOLocationID: long (nullable = true)\n",
      " |-- payment_type: long (nullable = true)\n",
      " |-- fare_amount: double (nullable = true)\n",
      " |-- extra: double (nullable = true)\n",
      " |-- mta_tax: double (nullable = true)\n",
      " |-- tip_amount: double (nullable = true)\n",
      " |-- tolls_amount: double (nullable = true)\n",
      " |-- improvement_surcharge: double (nullable = true)\n",
      " |-- total_amount: double (nullable = true)\n",
      " |-- congestion_surcharge: double (nullable = true)\n",
      "\n"
     ]
    },
    {
     "name": "stderr",
     "output_type": "stream",
     "text": [
      "/home/abyssde232024/spark/spark-3.3.2-bin-hadoop3/python/pyspark/sql/pandas/conversion.py:474: FutureWarning: iteritems is deprecated and will be removed in a future version. Use .items instead.\n",
      "  for column, series in pdf.iteritems():\n",
      "/home/abyssde232024/spark/spark-3.3.2-bin-hadoop3/python/pyspark/sql/pandas/conversion.py:486: FutureWarning: iteritems is deprecated and will be removed in a future version. Use .items instead.\n",
      "  for column, series in pdf.iteritems():\n"
     ]
    }
   ],
   "source": [
    "spark_vs.createDataFrame(df_yellow_pd).printSchema()"
   ]
  },
  {
   "cell_type": "code",
   "execution_count": 47,
   "metadata": {},
   "outputs": [],
   "source": [
    "yellow_schema = StructType([\n",
    "    StructField(\"VendorID\", IntegerType(), nullable=True),\n",
    "    StructField(\"tpep_pickup_datetime\", TimestampType(), nullable=True),\n",
    "    StructField(\"tpep_dropoff_datetime\", TimestampType(), nullable=True),\n",
    "    StructField(\"passenger_count\", IntegerType(), nullable=True),\n",
    "    StructField(\"trip_distance\", DoubleType(), nullable=True),\n",
    "    StructField(\"RatecodeID\", IntegerType(), nullable=True),\n",
    "    StructField(\"store_and_fwd_flag\", StringType(), nullable=True),\n",
    "    StructField(\"PULocationID\", IntegerType(), nullable=True),\n",
    "    StructField(\"DOLocationID\", IntegerType(), nullable=True),\n",
    "    StructField(\"payment_type\", IntegerType(), nullable=True),\n",
    "    StructField(\"fare_amount\", DoubleType(), nullable=True),\n",
    "    StructField(\"extra\", DoubleType(), nullable=True),\n",
    "    StructField(\"mta_tax\", DoubleType(), nullable=True),\n",
    "    StructField(\"tip_amount\", DoubleType(), nullable=True),\n",
    "    StructField(\"tolls_amount\", DoubleType(), nullable=True),\n",
    "    StructField(\"improvement_surcharge\", DoubleType(), nullable=True),\n",
    "    StructField(\"total_amount\", DoubleType(), nullable=True),\n",
    "    StructField(\"congestion_surcharge\", DoubleType(), nullable=True)\n",
    "])\n"
   ]
  },
  {
   "cell_type": "code",
   "execution_count": 48,
   "metadata": {},
   "outputs": [],
   "source": [
    "df_yellow = spark_vs.read \\\n",
    "    .option(\"header\", \"true\") \\\n",
    "    .schema(yellow_schema) \\\n",
    "    .csv('data/raw/yellow/2021/01')"
   ]
  },
  {
   "cell_type": "code",
   "execution_count": 49,
   "metadata": {},
   "outputs": [
    {
     "name": "stdout",
     "output_type": "stream",
     "text": [
      "root\n",
      " |-- VendorID: integer (nullable = true)\n",
      " |-- tpep_pickup_datetime: timestamp (nullable = true)\n",
      " |-- tpep_dropoff_datetime: timestamp (nullable = true)\n",
      " |-- passenger_count: integer (nullable = true)\n",
      " |-- trip_distance: double (nullable = true)\n",
      " |-- RatecodeID: integer (nullable = true)\n",
      " |-- store_and_fwd_flag: string (nullable = true)\n",
      " |-- PULocationID: integer (nullable = true)\n",
      " |-- DOLocationID: integer (nullable = true)\n",
      " |-- payment_type: integer (nullable = true)\n",
      " |-- fare_amount: double (nullable = true)\n",
      " |-- extra: double (nullable = true)\n",
      " |-- mta_tax: double (nullable = true)\n",
      " |-- tip_amount: double (nullable = true)\n",
      " |-- tolls_amount: double (nullable = true)\n",
      " |-- improvement_surcharge: double (nullable = true)\n",
      " |-- total_amount: double (nullable = true)\n",
      " |-- congestion_surcharge: double (nullable = true)\n",
      "\n"
     ]
    }
   ],
   "source": [
    "df_yellow.printSchema()"
   ]
  },
  {
   "cell_type": "code",
   "execution_count": 50,
   "metadata": {},
   "outputs": [
    {
     "data": {
      "text/plain": [
       "[Row(VendorID=1, tpep_pickup_datetime=datetime.datetime(2021, 1, 1, 0, 30, 10), tpep_dropoff_datetime=datetime.datetime(2021, 1, 1, 0, 36, 12), passenger_count=1, trip_distance=2.1, RatecodeID=1, store_and_fwd_flag='N', PULocationID=142, DOLocationID=43, payment_type=2, fare_amount=8.0, extra=3.0, mta_tax=0.5, tip_amount=0.0, tolls_amount=0.0, improvement_surcharge=0.3, total_amount=11.8, congestion_surcharge=2.5),\n",
       " Row(VendorID=1, tpep_pickup_datetime=datetime.datetime(2021, 1, 1, 0, 51, 20), tpep_dropoff_datetime=datetime.datetime(2021, 1, 1, 0, 52, 19), passenger_count=1, trip_distance=0.2, RatecodeID=1, store_and_fwd_flag='N', PULocationID=238, DOLocationID=151, payment_type=2, fare_amount=3.0, extra=0.5, mta_tax=0.5, tip_amount=0.0, tolls_amount=0.0, improvement_surcharge=0.3, total_amount=4.3, congestion_surcharge=0.0),\n",
       " Row(VendorID=1, tpep_pickup_datetime=datetime.datetime(2021, 1, 1, 0, 43, 30), tpep_dropoff_datetime=datetime.datetime(2021, 1, 1, 1, 11, 6), passenger_count=1, trip_distance=14.7, RatecodeID=1, store_and_fwd_flag='N', PULocationID=132, DOLocationID=165, payment_type=1, fare_amount=42.0, extra=0.5, mta_tax=0.5, tip_amount=8.65, tolls_amount=0.0, improvement_surcharge=0.3, total_amount=51.95, congestion_surcharge=0.0),\n",
       " Row(VendorID=1, tpep_pickup_datetime=datetime.datetime(2021, 1, 1, 0, 15, 48), tpep_dropoff_datetime=datetime.datetime(2021, 1, 1, 0, 31, 1), passenger_count=0, trip_distance=10.6, RatecodeID=1, store_and_fwd_flag='N', PULocationID=138, DOLocationID=132, payment_type=1, fare_amount=29.0, extra=0.5, mta_tax=0.5, tip_amount=6.05, tolls_amount=0.0, improvement_surcharge=0.3, total_amount=36.35, congestion_surcharge=0.0),\n",
       " Row(VendorID=2, tpep_pickup_datetime=datetime.datetime(2021, 1, 1, 0, 31, 49), tpep_dropoff_datetime=datetime.datetime(2021, 1, 1, 0, 48, 21), passenger_count=1, trip_distance=4.94, RatecodeID=1, store_and_fwd_flag='N', PULocationID=68, DOLocationID=33, payment_type=1, fare_amount=16.5, extra=0.5, mta_tax=0.5, tip_amount=4.06, tolls_amount=0.0, improvement_surcharge=0.3, total_amount=24.36, congestion_surcharge=2.5)]"
      ]
     },
     "execution_count": 50,
     "metadata": {},
     "output_type": "execute_result"
    }
   ],
   "source": [
    "df_yellow.head(5)"
   ]
  },
  {
   "cell_type": "code",
   "execution_count": 53,
   "metadata": {},
   "outputs": [
    {
     "name": "stderr",
     "output_type": "stream",
     "text": [
      "                                                                                \r"
     ]
    }
   ],
   "source": [
    "year=2020\n",
    "\n",
    "for month in range(1, 13):\n",
    "    if month < 10:\n",
    "        month = f'0{month}'\n",
    "    try:\n",
    "        df_green = spark_vs.read \\\n",
    "            .option(\"header\", \"true\") \\\n",
    "            .schema(green_schema) \\\n",
    "            .csv(f'data/raw/green/{year}/{month}')\n",
    "    except Exception as e:\n",
    "        print(f\"Green Error is: {e}\")\n",
    "    else:\n",
    "        df_green.repartition(4).write.mode('overwrite').parquet(f'data/processed/green/{year}/{month}')\n",
    "\n",
    "    try:\n",
    "        df_yellow = spark_vs.read \\\n",
    "            .option(\"header\", \"true\") \\\n",
    "            .schema(yellow_schema) \\\n",
    "            .csv(f'data/raw/yellow/{year}/{month}')\n",
    "    except Exception as e:\n",
    "        print(f\"Yellow Error is: {e}\")\n",
    "    else:\n",
    "        df_yellow.repartition(4).write.mode('overwrite').parquet(f'data/processed/yellow/{year}/{month}')"
   ]
  },
  {
   "cell_type": "code",
   "execution_count": null,
   "metadata": {},
   "outputs": [],
   "source": []
  }
 ],
 "metadata": {
  "kernelspec": {
   "display_name": "Python 3 (ipykernel)",
   "language": "python",
   "name": "python3"
  },
  "language_info": {
   "codemirror_mode": {
    "name": "ipython",
    "version": 3
   },
   "file_extension": ".py",
   "mimetype": "text/x-python",
   "name": "python",
   "nbconvert_exporter": "python",
   "pygments_lexer": "ipython3",
   "version": "3.8.10"
  }
 },
 "nbformat": 4,
 "nbformat_minor": 2
}
